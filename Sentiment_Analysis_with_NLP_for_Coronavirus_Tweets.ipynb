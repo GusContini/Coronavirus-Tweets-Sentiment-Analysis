{
  "cells": [
    {
      "cell_type": "markdown",
      "metadata": {
        "id": "6fe_jig7wU7l"
      },
      "source": [
        "# Coronavirus _tweets_ Sentiment Analysis"
      ]
    },
    {
      "cell_type": "markdown",
      "metadata": {
        "id": "jrX_QKn5wZ7E"
      },
      "source": [
        "This notebook aims to present a full scope solution using NLP techiniques to address the objective of analysing rather _tweets_ (in English) about the _Coronavirus_ are __positve__, __negative__ or __neutral__.\n",
        "In this task I'll use a dataset obtained from Kaggle (available at: https://www.kaggle.com/datasets/datatattle/covid-19-nlp-text-classification) to train and validate a model that tells the sentiment of a tweet based on its content. This is a broad challenge, with multiple possible solutions and deals with a updated and relevant theme."
      ]
    },
    {
      "cell_type": "markdown",
      "metadata": {
        "id": "iYOfIHsJ5C8J"
      },
      "source": [
        "## Data preparation"
      ]
    },
    {
      "cell_type": "code",
      "execution_count": 1,
      "metadata": {
        "colab": {
          "base_uri": "https://localhost:8080/"
        },
        "id": "EVd918xZ0xr2",
        "outputId": "080f66e6-bcc0-42d2-9c71-8a8b9610b5e6"
      },
      "outputs": [
        {
          "name": "stdout",
          "output_type": "stream",
          "text": [
            "Collecting emoji\n",
            "  Downloading emoji-1.7.0.tar.gz (175 kB)\n",
            "Building wheels for collected packages: emoji\n",
            "  Building wheel for emoji (setup.py): started\n",
            "  Building wheel for emoji (setup.py): finished with status 'done'\n",
            "  Created wheel for emoji: filename=emoji-1.7.0-py3-none-any.whl size=171030 sha256=c14641e087b657922de04cf0cf6a3579dcbff8909dddcb0ebe2f6d35851ef53e\n",
            "  Stored in directory: c:\\users\\chafu\\appdata\\local\\pip\\cache\\wheels\\5e\\8c\\80\\c3646df8201ba6f5070297fe3779a4b70265d0bfd961c15302\n",
            "Successfully built emoji\n",
            "Installing collected packages: emoji\n",
            "Successfully installed emoji-1.7.0\n",
            "Collecting transformers\n",
            "  Downloading transformers-4.20.1-py3-none-any.whl (4.4 MB)\n",
            "Requirement already satisfied: numpy>=1.17 in d:\\programfiles\\lib\\site-packages (from transformers) (1.19.5)\n",
            "Requirement already satisfied: packaging>=20.0 in d:\\programfiles\\lib\\site-packages (from transformers) (20.9)\n",
            "Collecting huggingface-hub<1.0,>=0.1.0\n",
            "  Downloading huggingface_hub-0.8.1-py3-none-any.whl (101 kB)\n",
            "Requirement already satisfied: regex!=2019.12.17 in d:\\programfiles\\lib\\site-packages (from transformers) (2021.4.4)\n",
            "Requirement already satisfied: tqdm>=4.27 in d:\\programfiles\\lib\\site-packages (from transformers) (4.59.0)\n",
            "Requirement already satisfied: requests in c:\\users\\chafu\\appdata\\roaming\\python\\python38\\site-packages (from transformers) (2.25.1)\n",
            "Collecting tokenizers!=0.11.3,<0.13,>=0.11.1\n",
            "  Downloading tokenizers-0.12.1-cp38-cp38-win_amd64.whl (3.3 MB)\n",
            "Requirement already satisfied: pyyaml>=5.1 in d:\\programfiles\\lib\\site-packages (from transformers) (5.4.1)\n",
            "Requirement already satisfied: filelock in c:\\users\\chafu\\appdata\\roaming\\python\\python38\\site-packages (from transformers) (3.6.0)\n",
            "Requirement already satisfied: typing-extensions>=3.7.4.3 in d:\\programfiles\\lib\\site-packages (from huggingface-hub<1.0,>=0.1.0->transformers) (3.7.4.3)\n",
            "Requirement already satisfied: pyparsing>=2.0.2 in d:\\programfiles\\lib\\site-packages (from packaging>=20.0->transformers) (2.4.7)\n",
            "Requirement already satisfied: urllib3<1.27,>=1.21.1 in d:\\programfiles\\lib\\site-packages (from requests->transformers) (1.26.4)\n",
            "Requirement already satisfied: idna<3,>=2.5 in c:\\users\\chafu\\appdata\\roaming\\python\\python38\\site-packages (from requests->transformers) (2.10)\n",
            "Requirement already satisfied: chardet<5,>=3.0.2 in d:\\programfiles\\lib\\site-packages (from requests->transformers) (3.0.4)\n",
            "Requirement already satisfied: certifi>=2017.4.17 in c:\\users\\chafu\\appdata\\roaming\\python\\python38\\site-packages (from requests->transformers) (2020.12.5)\n",
            "Installing collected packages: tokenizers, huggingface-hub, transformers\n",
            "Successfully installed huggingface-hub-0.8.1 tokenizers-0.12.1 transformers-4.20.1\n"
          ]
        }
      ],
      "source": [
        "# installing additional packages\n",
        "!pip install emoji\n",
        "!pip install transformers"
      ]
    },
    {
      "cell_type": "code",
      "execution_count": 2,
      "metadata": {
        "colab": {
          "base_uri": "https://localhost:8080/",
          "height": 34
        },
        "id": "9wvh8ZqdwLl2",
        "outputId": "21ae443e-3410-4364-a8fa-4339ca20705a"
      },
      "outputs": [
        {
          "data": {
            "text/plain": [
              "<Figure size 432x288 with 0 Axes>"
            ]
          },
          "metadata": {},
          "output_type": "display_data"
        }
      ],
      "source": [
        "# libraries to manipulate and visualize data\n",
        "import numpy as np\n",
        "import pandas as pd\n",
        "import tensorflow as tf\n",
        "import matplotlib.pyplot as plt\n",
        "import seaborn as sns\n",
        "\n",
        "# libraries to process data\n",
        "import re, string\n",
        "import emoji\n",
        "import nltk\n",
        "from sklearn import preprocessing\n",
        "from imblearn.over_sampling import RandomOverSampler\n",
        "from sklearn.model_selection import train_test_split\n",
        "\n",
        "# libraries to extract features\n",
        "from sklearn.feature_extraction.text import CountVectorizer\n",
        "from sklearn.feature_extraction.text import TfidfTransformer\n",
        "\n",
        "# libraries for modeling\n",
        "# Naive Bayes para modelo base\n",
        "from sklearn.naive_bayes import MultinomialNB\n",
        "\n",
        "# neural networls\n",
        "import tensorflow as tf\n",
        "from tensorflow import keras\n",
        "\n",
        "# transformers\n",
        "from transformers import BertTokenizerFast\n",
        "from transformers import TFBertModel\n",
        "from transformers import RobertaTokenizerFast\n",
        "from transformers import TFRobertaModel\n",
        "\n",
        "# libraries to analyse the models' performance\n",
        "from sklearn.metrics import accuracy_score, f1_score\n",
        "from sklearn.metrics import classification_report, confusion_matrix\n",
        "\n",
        "# random seed for reproducibility\n",
        "seed=42\n",
        "\n",
        "# plots style\n",
        "sns.set_style(\"whitegrid\")\n",
        "sns.despine()\n",
        "plt.style.use(\"seaborn-whitegrid\")\n",
        "plt.rc(\"figure\", autolayout=True)\n",
        "plt.rc(\"axes\", labelweight=\"bold\", labelsize=\"large\", titleweight=\"bold\", titlepad=10)"
      ]
    },
    {
      "cell_type": "code",
      "execution_count": 4,
      "metadata": {
        "id": "a98DA-aB0pNH"
      },
      "outputs": [],
      "source": [
        "# function to plot the confusion matrixes\n",
        "def conf_matrix(y, y_pred, title):\n",
        "    fig, ax =plt.subplots(figsize=(5,5))\n",
        "    labels=['Negative', 'Neutral', 'Positive']\n",
        "    ax=sns.heatmap(confusion_matrix(y, y_pred), annot=True, cmap=\"Blues\", fmt='g', cbar=False, annot_kws={\"size\":25})\n",
        "    plt.title(title, fontsize=20)\n",
        "    ax.xaxis.set_ticklabels(labels, fontsize=17) \n",
        "    ax.yaxis.set_ticklabels(labels, fontsize=17)\n",
        "    ax.set_ylabel('Test', fontsize=20)\n",
        "    ax.set_xlabel('Predicted', fontsize=20)\n",
        "    plt.show()"
      ]
    },
    {
      "cell_type": "code",
      "execution_count": 5,
      "metadata": {
        "colab": {
          "base_uri": "https://localhost:8080/"
        },
        "id": "fNo_-miG1bgL",
        "outputId": "7e5e9696-7124-4c38-f294-3cd8c3b8a752"
      },
      "outputs": [
        {
          "name": "stdout",
          "output_type": "stream",
          "text": [
            "(41157, 6)\n",
            "(3798, 6)\n"
          ]
        }
      ],
      "source": [
        "# load the csv files into Pandas DataFrames\n",
        "df = pd.read_csv('/content/Corona_NLP_train.csv', encoding='ISO-8859-1')\n",
        "print(df.shape)\n",
        "df_test = pd.read_csv('/content/Corona_NLP_test.csv')\n",
        "print(df_test.shape)"
      ]
    },
    {
      "cell_type": "code",
      "execution_count": 6,
      "metadata": {
        "colab": {
          "base_uri": "https://localhost:8080/",
          "height": 206
        },
        "id": "mRtKVVu-1wrG",
        "outputId": "92b0a7bf-c74b-4d82-96f6-6fc98cee8cc4"
      },
      "outputs": [
        {
          "data": {
            "text/html": [
              "\n",
              "  <div id=\"df-a6db00fe-41d8-442e-810f-7c85633f1a70\">\n",
              "    <div class=\"colab-df-container\">\n",
              "      <div>\n",
              "<style scoped>\n",
              "    .dataframe tbody tr th:only-of-type {\n",
              "        vertical-align: middle;\n",
              "    }\n",
              "\n",
              "    .dataframe tbody tr th {\n",
              "        vertical-align: top;\n",
              "    }\n",
              "\n",
              "    .dataframe thead th {\n",
              "        text-align: right;\n",
              "    }\n",
              "</style>\n",
              "<table border=\"1\" class=\"dataframe\">\n",
              "  <thead>\n",
              "    <tr style=\"text-align: right;\">\n",
              "      <th></th>\n",
              "      <th>UserName</th>\n",
              "      <th>ScreenName</th>\n",
              "      <th>Location</th>\n",
              "      <th>TweetAt</th>\n",
              "      <th>OriginalTweet</th>\n",
              "      <th>Sentiment</th>\n",
              "    </tr>\n",
              "  </thead>\n",
              "  <tbody>\n",
              "    <tr>\n",
              "      <th>0</th>\n",
              "      <td>3799</td>\n",
              "      <td>48751</td>\n",
              "      <td>London</td>\n",
              "      <td>16-03-2020</td>\n",
              "      <td>@MeNyrbie @Phil_Gahan @Chrisitv https://t.co/i...</td>\n",
              "      <td>Neutral</td>\n",
              "    </tr>\n",
              "    <tr>\n",
              "      <th>1</th>\n",
              "      <td>3800</td>\n",
              "      <td>48752</td>\n",
              "      <td>UK</td>\n",
              "      <td>16-03-2020</td>\n",
              "      <td>advice Talk to your neighbours family to excha...</td>\n",
              "      <td>Positive</td>\n",
              "    </tr>\n",
              "    <tr>\n",
              "      <th>2</th>\n",
              "      <td>3801</td>\n",
              "      <td>48753</td>\n",
              "      <td>Vagabonds</td>\n",
              "      <td>16-03-2020</td>\n",
              "      <td>Coronavirus Australia: Woolworths to give elde...</td>\n",
              "      <td>Positive</td>\n",
              "    </tr>\n",
              "    <tr>\n",
              "      <th>3</th>\n",
              "      <td>3802</td>\n",
              "      <td>48754</td>\n",
              "      <td>NaN</td>\n",
              "      <td>16-03-2020</td>\n",
              "      <td>My food stock is not the only one which is emp...</td>\n",
              "      <td>Positive</td>\n",
              "    </tr>\n",
              "    <tr>\n",
              "      <th>4</th>\n",
              "      <td>3803</td>\n",
              "      <td>48755</td>\n",
              "      <td>NaN</td>\n",
              "      <td>16-03-2020</td>\n",
              "      <td>Me, ready to go at supermarket during the #COV...</td>\n",
              "      <td>Extremely Negative</td>\n",
              "    </tr>\n",
              "  </tbody>\n",
              "</table>\n",
              "</div>\n",
              "      <button class=\"colab-df-convert\" onclick=\"convertToInteractive('df-a6db00fe-41d8-442e-810f-7c85633f1a70')\"\n",
              "              title=\"Convert this dataframe to an interactive table.\"\n",
              "              style=\"display:none;\">\n",
              "        \n",
              "  <svg xmlns=\"http://www.w3.org/2000/svg\" height=\"24px\"viewBox=\"0 0 24 24\"\n",
              "       width=\"24px\">\n",
              "    <path d=\"M0 0h24v24H0V0z\" fill=\"none\"/>\n",
              "    <path d=\"M18.56 5.44l.94 2.06.94-2.06 2.06-.94-2.06-.94-.94-2.06-.94 2.06-2.06.94zm-11 1L8.5 8.5l.94-2.06 2.06-.94-2.06-.94L8.5 2.5l-.94 2.06-2.06.94zm10 10l.94 2.06.94-2.06 2.06-.94-2.06-.94-.94-2.06-.94 2.06-2.06.94z\"/><path d=\"M17.41 7.96l-1.37-1.37c-.4-.4-.92-.59-1.43-.59-.52 0-1.04.2-1.43.59L10.3 9.45l-7.72 7.72c-.78.78-.78 2.05 0 2.83L4 21.41c.39.39.9.59 1.41.59.51 0 1.02-.2 1.41-.59l7.78-7.78 2.81-2.81c.8-.78.8-2.07 0-2.86zM5.41 20L4 18.59l7.72-7.72 1.47 1.35L5.41 20z\"/>\n",
              "  </svg>\n",
              "      </button>\n",
              "      \n",
              "  <style>\n",
              "    .colab-df-container {\n",
              "      display:flex;\n",
              "      flex-wrap:wrap;\n",
              "      gap: 12px;\n",
              "    }\n",
              "\n",
              "    .colab-df-convert {\n",
              "      background-color: #E8F0FE;\n",
              "      border: none;\n",
              "      border-radius: 50%;\n",
              "      cursor: pointer;\n",
              "      display: none;\n",
              "      fill: #1967D2;\n",
              "      height: 32px;\n",
              "      padding: 0 0 0 0;\n",
              "      width: 32px;\n",
              "    }\n",
              "\n",
              "    .colab-df-convert:hover {\n",
              "      background-color: #E2EBFA;\n",
              "      box-shadow: 0px 1px 2px rgba(60, 64, 67, 0.3), 0px 1px 3px 1px rgba(60, 64, 67, 0.15);\n",
              "      fill: #174EA6;\n",
              "    }\n",
              "\n",
              "    [theme=dark] .colab-df-convert {\n",
              "      background-color: #3B4455;\n",
              "      fill: #D2E3FC;\n",
              "    }\n",
              "\n",
              "    [theme=dark] .colab-df-convert:hover {\n",
              "      background-color: #434B5C;\n",
              "      box-shadow: 0px 1px 3px 1px rgba(0, 0, 0, 0.15);\n",
              "      filter: drop-shadow(0px 1px 2px rgba(0, 0, 0, 0.3));\n",
              "      fill: #FFFFFF;\n",
              "    }\n",
              "  </style>\n",
              "\n",
              "      <script>\n",
              "        const buttonEl =\n",
              "          document.querySelector('#df-a6db00fe-41d8-442e-810f-7c85633f1a70 button.colab-df-convert');\n",
              "        buttonEl.style.display =\n",
              "          google.colab.kernel.accessAllowed ? 'block' : 'none';\n",
              "\n",
              "        async function convertToInteractive(key) {\n",
              "          const element = document.querySelector('#df-a6db00fe-41d8-442e-810f-7c85633f1a70');\n",
              "          const dataTable =\n",
              "            await google.colab.kernel.invokeFunction('convertToInteractive',\n",
              "                                                     [key], {});\n",
              "          if (!dataTable) return;\n",
              "\n",
              "          const docLinkHtml = 'Like what you see? Visit the ' +\n",
              "            '<a target=\"_blank\" href=https://colab.research.google.com/notebooks/data_table.ipynb>data table notebook</a>'\n",
              "            + ' to learn more about interactive tables.';\n",
              "          element.innerHTML = '';\n",
              "          dataTable['output_type'] = 'display_data';\n",
              "          await google.colab.output.renderOutput(dataTable, element);\n",
              "          const docLink = document.createElement('div');\n",
              "          docLink.innerHTML = docLinkHtml;\n",
              "          element.appendChild(docLink);\n",
              "        }\n",
              "      </script>\n",
              "    </div>\n",
              "  </div>\n",
              "  "
            ],
            "text/plain": [
              "   UserName  ScreenName   Location     TweetAt  \\\n",
              "0      3799       48751     London  16-03-2020   \n",
              "1      3800       48752         UK  16-03-2020   \n",
              "2      3801       48753  Vagabonds  16-03-2020   \n",
              "3      3802       48754        NaN  16-03-2020   \n",
              "4      3803       48755        NaN  16-03-2020   \n",
              "\n",
              "                                       OriginalTweet           Sentiment  \n",
              "0  @MeNyrbie @Phil_Gahan @Chrisitv https://t.co/i...             Neutral  \n",
              "1  advice Talk to your neighbours family to excha...            Positive  \n",
              "2  Coronavirus Australia: Woolworths to give elde...            Positive  \n",
              "3  My food stock is not the only one which is emp...            Positive  \n",
              "4  Me, ready to go at supermarket during the #COV...  Extremely Negative  "
            ]
          },
          "execution_count": 6,
          "metadata": {},
          "output_type": "execute_result"
        }
      ],
      "source": [
        "# Exhibition of the dataset's first few rows\n",
        "df.head()"
      ]
    },
    {
      "cell_type": "code",
      "execution_count": 7,
      "metadata": {
        "colab": {
          "base_uri": "https://localhost:8080/"
        },
        "id": "-5xKLIZV1xss",
        "outputId": "76e0262c-f28d-4f49-8119-0feca1d7c3c8"
      },
      "outputs": [
        {
          "name": "stdout",
          "output_type": "stream",
          "text": [
            "<class 'pandas.core.frame.DataFrame'>\n",
            "RangeIndex: 41157 entries, 0 to 41156\n",
            "Data columns (total 6 columns):\n",
            " #   Column         Non-Null Count  Dtype \n",
            "---  ------         --------------  ----- \n",
            " 0   UserName       41157 non-null  int64 \n",
            " 1   ScreenName     41157 non-null  int64 \n",
            " 2   Location       32567 non-null  object\n",
            " 3   TweetAt        41157 non-null  object\n",
            " 4   OriginalTweet  41157 non-null  object\n",
            " 5   Sentiment      41157 non-null  object\n",
            "dtypes: int64(2), object(4)\n",
            "memory usage: 1.9+ MB\n"
          ]
        }
      ],
      "source": [
        "# .info() method shows NaN count and data types\n",
        "df.info()"
      ]
    },
    {
      "cell_type": "code",
      "execution_count": 8,
      "metadata": {
        "id": "GnXXvsn426Gg"
      },
      "outputs": [],
      "source": [
        "# 'TweetAt' filed conversion to the Pandas' datetime format\n",
        "df['TweetAt'] = pd.to_datetime(df['TweetAt'])"
      ]
    },
    {
      "cell_type": "code",
      "execution_count": 9,
      "metadata": {
        "colab": {
          "base_uri": "https://localhost:8080/"
        },
        "id": "E9bvwRyx3NJE",
        "outputId": "1146da6a-3e30-4393-bc88-9765b0542dab"
      },
      "outputs": [
        {
          "name": "stdout",
          "output_type": "stream",
          "text": [
            "(41157, 6)\n"
          ]
        }
      ],
      "source": [
        "# duplicate check\n",
        "df.drop_duplicates(subset='OriginalTweet',inplace=True)\n",
        "print(df.shape)"
      ]
    },
    {
      "cell_type": "markdown",
      "metadata": {
        "id": "EgjcCYEI5JFu"
      },
      "source": [
        "## Preprocessing"
      ]
    },
    {
      "cell_type": "code",
      "execution_count": 10,
      "metadata": {
        "id": "lUuMaWQE417f"
      },
      "outputs": [],
      "source": [
        "# to make things simple, let's only keep the columns 'OriginalTweet' e 'Sentiment'\n",
        "df = df[['OriginalTweet','Sentiment']]\n",
        "df_test = df_test[['OriginalTweet','Sentiment']]"
      ]
    },
    {
      "cell_type": "code",
      "execution_count": 11,
      "metadata": {
        "id": "JNGVBLEx5Y9q"
      },
      "outputs": [],
      "source": [
        "## Functions to handle with texts\n",
        "\n",
        "# remove emojis\n",
        "def strip_emoji(text):\n",
        "    return re.sub(emoji.get_emoji_regexp(), r\"\", text)\n",
        "\n",
        "# remove punctuation, hyperlinks, mentions (@) and characters that designate paragraphs (\\r\\n)\n",
        "def strip_all_entities(text): \n",
        "    text = text.replace('\\r', '').replace('\\n', ' ').replace('\\n', ' ').lower() # remove \\n and \\r and set lowercase\n",
        "    text = re.sub(r\"(?:\\@|https?\\://)\\S+\", \"\", text) # remove hyperlinks and mentions\n",
        "    text = re.sub(r'[^\\x00-\\x7f]',r'', text) # remove non-utf8/ascii characters such as '\\x9a\\x91\\x97\\x9a\\x97'\n",
        "    banned_list= string.punctuation + 'Ã'+'±'+'ã'+'¼'+'â'+'»'+'§' # remove special characters\n",
        "    table = str.maketrans('', '', banned_list)\n",
        "    text = text.translate(table)\n",
        "    return text\n",
        "\n",
        "# clears hashtags at the end of the sentence and keeps the ones in the middle without the # symbol\n",
        "def clean_hashtags(tweet):\n",
        "    new_tweet = \" \".join(word.strip() for word in re.split('#(?!(?:hashtag)\\b)[\\w-]+(?=(?:\\s+#[\\w-]+)*\\s*$)', tweet))\n",
        "    new_tweet2 = \" \".join(word.strip() for word in re.split('#|_', new_tweet)) #remove o símbolo hashtags (#) das palavras no meio da frase\n",
        "    return new_tweet2\n",
        "\n",
        "# filter special characters & and $\n",
        "def filter_chars(a):\n",
        "    sent = []\n",
        "    for word in a.split(' '):\n",
        "        if ('$' in word) | ('&' in word):\n",
        "            sent.append('')\n",
        "        else:\n",
        "            sent.append(word)\n",
        "    return ' '.join(sent)\n",
        "\n",
        "# remove multiple spaces\n",
        "def remove_mult_spaces(text):\n",
        "    return re.sub(\"\\s\\s+\" , \" \", text)"
      ]
    },
    {
      "cell_type": "code",
      "execution_count": 12,
      "metadata": {
        "colab": {
          "base_uri": "https://localhost:8080/"
        },
        "id": "rkC7bb5h7Zah",
        "outputId": "66d88d95-88d2-4f1e-bbcb-8b1fc655915b"
      },
      "outputs": [
        {
          "name": "stderr",
          "output_type": "stream",
          "text": [
            "/usr/local/lib/python3.7/dist-packages/ipykernel_launcher.py:5: DeprecationWarning: 'emoji.get_emoji_regexp()' is deprecated and will be removed in version 2.0.0. If you want to remove emoji from a string, consider the method emoji.replace_emoji(str, replace='').\n",
            "To hide this warning, pin/downgrade the package to 'emoji~=1.6.3'\n",
            "  \"\"\"\n"
          ]
        }
      ],
      "source": [
        "# applies the handling functions defined above\n",
        "texts_new = []\n",
        "for t in df.OriginalTweet:\n",
        "    texts_new.append(remove_mult_spaces(filter_chars(clean_hashtags(strip_all_entities(strip_emoji(t))))))\n",
        "df['text_clean'] = texts_new"
      ]
    },
    {
      "cell_type": "code",
      "execution_count": 13,
      "metadata": {
        "colab": {
          "base_uri": "https://localhost:8080/"
        },
        "id": "J0fdGEre7gAO",
        "outputId": "1bb51fbd-f68b-4519-f327-706733cbc071"
      },
      "outputs": [
        {
          "name": "stderr",
          "output_type": "stream",
          "text": [
            "/usr/local/lib/python3.7/dist-packages/ipykernel_launcher.py:5: DeprecationWarning: 'emoji.get_emoji_regexp()' is deprecated and will be removed in version 2.0.0. If you want to remove emoji from a string, consider the method emoji.replace_emoji(str, replace='').\n",
            "To hide this warning, pin/downgrade the package to 'emoji~=1.6.3'\n",
            "  \"\"\"\n"
          ]
        }
      ],
      "source": [
        "# ditto for the test set\n",
        "texts_new_test = []\n",
        "for t in df_test.OriginalTweet:\n",
        "    texts_new_test.append(remove_mult_spaces(filter_chars(clean_hashtags(strip_all_entities(strip_emoji(t))))))\n",
        "df_test['text_clean'] = texts_new_test"
      ]
    },
    {
      "cell_type": "code",
      "execution_count": 14,
      "metadata": {
        "colab": {
          "base_uri": "https://localhost:8080/"
        },
        "id": "dCPD1O2y7kz-",
        "outputId": "93bfaf04-a012-4c14-c901-28b41443ab21"
      },
      "outputs": [
        {
          "data": {
            "text/plain": [
              "array(['advice talk to your neighbours family to exchange phone numbers create contact list with phone numbers of neighbours schools employer chemist gp set up online shopping accounts if poss adequate supplies of regular meds but not over order',\n",
              "       'coronavirus australia woolworths to give elderly disabled dedicated shopping hours amid covid19 outbreak',\n",
              "       'my food stock is not the only one which is empty please dont panic there will be enough food for everyone if you do not take more than you need stay calm stay safe covid19france covid19 covid19 coronavirus confinement confinementotal confinementgeneral',\n",
              "       'me ready to go at supermarket during the covid19 outbreak not because im paranoid but because my food stock is litteraly empty the coronavirus is a serious thing but please dont panic it causes shortage coronavirusfrance restezchezvous stayathome confinement',\n",
              "       'as news of the regions first confirmed covid19 case came out of sullivan county last week people flocked to area stores to purchase cleaning supplies hand sanitizer food toilet paper and other goods reports',\n",
              "       'cashier at grocery store was sharing his insights on covid19 to prove his credibility he commented im in civics class so i know what im talking about',\n",
              "       'was at the supermarket today didnt buy toilet paper rebel toiletpapercrisis covid19'],\n",
              "      dtype=object)"
            ]
          },
          "execution_count": 14,
          "metadata": {},
          "output_type": "execute_result"
        }
      ],
      "source": [
        "# displays some records with treated texts\n",
        "df['text_clean'][1:8].values"
      ]
    },
    {
      "cell_type": "markdown",
      "metadata": {},
      "source": [
        "\n",
        "Now we will create a variable with the character count of the treated tweet in order to verify if the treatments removed a lot of text"
      ]
    },
    {
      "cell_type": "code",
      "execution_count": 15,
      "metadata": {
        "id": "mrnm2Y2G74jy"
      },
      "outputs": [],
      "source": [
        "# treino\n",
        "text_len = []\n",
        "for text in df.text_clean:\n",
        "    tweet_len = len(text.split())\n",
        "    text_len.append(tweet_len)\n",
        "\n",
        "df['text_len'] = text_len\n",
        "\n",
        "# teste\n",
        "text_len_test = []\n",
        "for text in df_test.text_clean:\n",
        "    tweet_len = len(text.split())\n",
        "    text_len_test.append(tweet_len)\n",
        "\n",
        "df_test['text_len'] = text_len_test"
      ]
    },
    {
      "cell_type": "code",
      "execution_count": 16,
      "metadata": {
        "colab": {
          "base_uri": "https://localhost:8080/",
          "height": 369
        },
        "id": "mukF4wxt9q1_",
        "outputId": "d8616518-5c36-4a1a-8d4b-e4b5d9fb3e78"
      },
      "outputs": [
        {
          "data": {
            "image/png": "[encoded data removed]",
            "text/plain": [
              "<Figure size 504x360 with 1 Axes>"
            ]
          },
          "metadata": {},
          "output_type": "display_data"
        }
      ],
      "source": [
        "plt.figure(figsize=(7,5))\n",
        "ax = sns.countplot(x='text_len', data=df[df['text_len']<10], palette='mako')\n",
        "plt.title('Training tweets with less than 10 words')\n",
        "plt.yticks([])\n",
        "plt.ylabel('count')\n",
        "plt.xlabel('')\n",
        "for p in ax.patches:\n",
        "        ax.annotate('{}'.format(p.get_height()), (p.get_x()+0.25, p.get_height()+5))\n",
        "plt.show()"
      ]
    },
    {
      "cell_type": "code",
      "execution_count": 17,
      "metadata": {
        "colab": {
          "base_uri": "https://localhost:8080/",
          "height": 369
        },
        "id": "Nf3OFucv9y9D",
        "outputId": "f92f4068-f544-4f9f-9747-693a08094836"
      },
      "outputs": [
        {
          "data": {
            "image/png": "[encoded data removed]",
            "text/plain": [
              "<Figure size 504x360 with 1 Axes>"
            ]
          },
          "metadata": {},
          "output_type": "display_data"
        }
      ],
      "source": [
        "plt.figure(figsize=(7,5))\n",
        "ax = sns.countplot(x='text_len', data=df_test[df_test['text_len']<10], palette='mako')\n",
        "plt.title('Test tweets with less than 10 words')\n",
        "plt.yticks([])\n",
        "plt.ylabel('count')\n",
        "plt.xlabel('')\n",
        "for p in ax.patches:\n",
        "        ax.annotate('{}'.format(p.get_height()), (p.get_x()+0.3, p.get_height()+0.5))\n",
        "plt.show()"
      ]
    },
    {
      "cell_type": "markdown",
      "metadata": {},
      "source": [
        "We can notice that there are tweets with few words (even with none). This is due to the fact that some tweets contain only mentions, hashtags and hyperlinks.\n",
        "These records will be deleted for further analysis."
      ]
    },
    {
      "cell_type": "code",
      "execution_count": 18,
      "metadata": {
        "colab": {
          "base_uri": "https://localhost:8080/"
        },
        "id": "0QS5Oq8T-DLY",
        "outputId": "59949dff-0f92-4e18-ecda-861044d5fcd5"
      },
      "outputs": [
        {
          "name": "stdout",
          "output_type": "stream",
          "text": [
            " DF SHAPE antes da remoção: (41157, 4)\n",
            " DF TEST SHAPE antes da remoção: (3798, 4)\n",
            " DF SHAPE após a remoção: (40935, 4)\n",
            " DF TEST SHAPE após a remoção: (3792, 4)\n"
          ]
        }
      ],
      "source": [
        "print(f\" DF SHAPE antes da remoção: {df.shape}\")\n",
        "print(f\" DF TEST SHAPE antes da remoção: {df_test.shape}\")\n",
        "\n",
        "df = df[df['text_len'] > 4]\n",
        "df_test = df_test[df_test['text_len'] > 4]\n",
        "\n",
        "print(f\" DF SHAPE após a remoção: {df.shape}\")\n",
        "print(f\" DF TEST SHAPE após a remoção: {df_test.shape}\")"
      ]
    },
    {
      "cell_type": "code",
      "execution_count": 19,
      "metadata": {
        "colab": {
          "base_uri": "https://localhost:8080/",
          "height": 162,
          "referenced_widgets": [
            "27915ef21024437a91a7a1aed697e0a3",
            "3c83ca72039b4eb9b019b8311a504b4f",
            "cfdf01ed72434dd8a4880f66d1d707d3",
            "b008ea843c354580aab2ded93998a5be",
            "61bd831248c948e38123a1def68b7df9",
            "99b00fa24c604920b96e2bedeaa1c7b6",
            "27d4d39e89a14ab1abe012d0778af8f7",
            "208c853fb82b49e88faa126b2b0bdc14",
            "0c7cd163a24c4f73a18b2b8340c47551",
            "4ac3b3ee68d94bb08052d197d17a2335",
            "d77dd0adb2fe471ca7d47c1c0ac20575",
            "e33e0c3d5a7148cc81b91b95e205dd49",
            "8289ceab280f472a9f151fcc80f0b7f6",
            "3a88d17d92ed4547be50cad1aa73bb3d",
            "5eda5cc0ef224d9e96a9f62f109ae70a",
            "970603a5e28042cd8019a34ab1c24e36",
            "cc7607bdcbe14154880116f93199efe6",
            "1b72da07fb71457791239e7e4f8ede28",
            "d20ffa153e904983aca4be5964c8d68b",
            "1d03363f912f4e68b6c014b40fc00077",
            "77fc343703df4b179c3e8b29d1f5c3c5",
            "591e4903651e44768a056aafe6e4164e",
            "9c0143a682a1402594f57f47bf7ea5af",
            "537116fd269b43f7b86a1c0818f8254b",
            "be7ba15533fd400484372c613930cb49",
            "2cc06bddcc484905a705df3146812320",
            "331a7eae59cf4a1e8333e0fd41501881",
            "cab95b7b60284cbea00bc2a01d093224",
            "771c9838ed4746ada1654b5757f5872a",
            "49dfc9e788d5487f8983492d8754028c",
            "97437859af4942e78a3eb2f25af5822a",
            "809aaa3677c048aea0ca9e1ff986cba2",
            "b62d37cf2d784ea1826bca83a49f7e74",
            "c522bdca0616408dba505dce5166f8bd",
            "0b3d6cebc67b4b9e8474d0c746dfa6a7",
            "9ae78ffd912345ac91373bc195b02099",
            "4511359951dc44698d4ea51ac8bdbc00",
            "7f1eda3174d1481cb29f5f181746b5c9",
            "7c2951499f014f0796a78c7fceb7dc0d",
            "672b3a69028c49fe8c83adca1dae1bdc",
            "18acf27a436c4f0a92ff6d05698b3525",
            "33775ff2a7c047d881bd0d89b34336cf",
            "232282ff5e8f4334a6e724c68eb6d673",
            "687cdec908594f278069c024f80ab8f9"
          ]
        },
        "id": "q5nRpsVK_-fH",
        "outputId": "0d9fa9ef-4ca4-4351-9b50-7e77fbc80829"
      },
      "outputs": [
        {
          "data": {
            "application/vnd.jupyter.widget-view+json": {
              "model_id": "27915ef21024437a91a7a1aed697e0a3",
              "version_major": 2,
              "version_minor": 0
            },
            "text/plain": [
              "Downloading:   0%|          | 0.00/28.0 [00:00<?, ?B/s]"
            ]
          },
          "metadata": {},
          "output_type": "display_data"
        },
        {
          "data": {
            "application/vnd.jupyter.widget-view+json": {
              "model_id": "e33e0c3d5a7148cc81b91b95e205dd49",
              "version_major": 2,
              "version_minor": 0
            },
            "text/plain": [
              "Downloading:   0%|          | 0.00/226k [00:00<?, ?B/s]"
            ]
          },
          "metadata": {},
          "output_type": "display_data"
        },
        {
          "data": {
            "application/vnd.jupyter.widget-view+json": {
              "model_id": "9c0143a682a1402594f57f47bf7ea5af",
              "version_major": 2,
              "version_minor": 0
            },
            "text/plain": [
              "Downloading:   0%|          | 0.00/455k [00:00<?, ?B/s]"
            ]
          },
          "metadata": {},
          "output_type": "display_data"
        },
        {
          "data": {
            "application/vnd.jupyter.widget-view+json": {
              "model_id": "c522bdca0616408dba505dce5166f8bd",
              "version_major": 2,
              "version_minor": 0
            },
            "text/plain": [
              "Downloading:   0%|          | 0.00/570 [00:00<?, ?B/s]"
            ]
          },
          "metadata": {},
          "output_type": "display_data"
        },
        {
          "name": "stdout",
          "output_type": "stream",
          "text": [
            "Maior extensão de frase tokenizada: 100\n"
          ]
        }
      ],
      "source": [
        "# next we will apply the tokenization of the texts\n",
        "tokenizer = BertTokenizerFast.from_pretrained('bert-base-uncased')\n",
        "\n",
        "token_lens = []\n",
        "\n",
        "for txt in df['text_clean'].values:\n",
        "    tokens = tokenizer.encode(txt, max_length=512, truncation=True)\n",
        "    token_lens.append(len(tokens))\n",
        "    \n",
        "max_len=np.max(token_lens)\n",
        "print(f\"Maior extensão de frase tokenizada: {max_len}\")"
      ]
    },
    {
      "cell_type": "code",
      "execution_count": 20,
      "metadata": {
        "colab": {
          "base_uri": "https://localhost:8080/"
        },
        "id": "aMMAf39YAbFL",
        "outputId": "6fcea515-b0a0-4a23-ceda-6639b6626618"
      },
      "outputs": [
        {
          "name": "stdout",
          "output_type": "stream",
          "text": [
            "Maior extensão de frase tokenizada: 96\n"
          ]
        }
      ],
      "source": [
        "token_lens_test = []\n",
        "\n",
        "for txt in df_test['text_clean'].values:\n",
        "    tokens = tokenizer.encode(txt, max_length=512, truncation=True)\n",
        "    token_lens_test.append(len(tokens))\n",
        "    \n",
        "max_len=np.max(token_lens_test)\n",
        "print(f\"Maior extensão de frase tokenizada: {max_len}\")"
      ]
    },
    {
      "cell_type": "code",
      "execution_count": 21,
      "metadata": {
        "colab": {
          "base_uri": "https://localhost:8080/"
        },
        "id": "2Xc_G5fnBDHv",
        "outputId": "5eab218b-f201-4adf-8b3d-2dd74f3e5cc1"
      },
      "outputs": [
        {
          "name": "stdout",
          "output_type": "stream",
          "text": [
            "INDEX: 1622, TEXT: zsah policie proti spekulantm s roukami na mj popud hejtman steckho kraje ve spoluprci s podle krizovho zkona zajistil tm 700 tisrouek od firmy kter je mla dodat na zdravotnkm ale na posledn chvli se snaila navyovat cenu spolutozvladneme\n",
            "INDEX: 13623, TEXT: hoy aplaudo a mi segunda familia aplaudoanuestrosheroes aquellos con los que he compartido tantas noches de trabajo y tanta alegra s que como siempre dan todo por el bien de su comunidad presidente por ellos tambin cuarentenanacionalya cuidemosalosquecuidan\n",
            "INDEX: 16548, TEXT: bir mddettir spermarketlerin lojistik hizmeti avusturya ordusu desteiyle yaplyor dn corona tedavisi iin 22 milyon luk bir aratrma gelitirme btesi aklad hkmet geen hafta da 35 milyon luk 2 yardm paketi aklanmt viyanadan haberler bu kadar\n",
            "INDEX: 36953, TEXT: 11 nisan cumartesi itibariyle bbnin tm hizmetleri sokaa kma serbestisi olanlar iin devam edecek halk ekmek ve hamidiye su 100 retime geti bb tm stanbulun gda ihtiyacna yetecek kapasitededir halkmz sakin olsun ve gvende hissetsin ltfen herkes evine dnsn\n"
          ]
        }
      ],
      "source": [
        "# let's check the texts that have a lot of tokens (> 80):\n",
        "token_lens = []\n",
        "for i, txt in enumerate(df['text_clean'].values):\n",
        "    tokens = tokenizer.encode(txt, max_length=512, truncation=True)\n",
        "    token_lens.append(len(tokens))\n",
        "    if len(tokens)>80:\n",
        "        print(f\"INDEX: {i}, TEXT: {txt}\")"
      ]
    },
    {
      "cell_type": "code",
      "execution_count": 22,
      "metadata": {
        "colab": {
          "base_uri": "https://localhost:8080/",
          "height": 300
        },
        "id": "svQZEbi3BVJt",
        "outputId": "9febc421-c92e-447b-a600-930a1354b023"
      },
      "outputs": [
        {
          "data": {
            "text/html": [
              "\n",
              "  <div id=\"df-492feb6f-c691-4a1d-a12b-1d4b09aef694\">\n",
              "    <div class=\"colab-df-container\">\n",
              "      <div>\n",
              "<style scoped>\n",
              "    .dataframe tbody tr th:only-of-type {\n",
              "        vertical-align: middle;\n",
              "    }\n",
              "\n",
              "    .dataframe tbody tr th {\n",
              "        vertical-align: top;\n",
              "    }\n",
              "\n",
              "    .dataframe thead th {\n",
              "        text-align: right;\n",
              "    }\n",
              "</style>\n",
              "<table border=\"1\" class=\"dataframe\">\n",
              "  <thead>\n",
              "    <tr style=\"text-align: right;\">\n",
              "      <th></th>\n",
              "      <th>OriginalTweet</th>\n",
              "      <th>Sentiment</th>\n",
              "      <th>text_clean</th>\n",
              "      <th>text_len</th>\n",
              "      <th>token_lens</th>\n",
              "    </tr>\n",
              "  </thead>\n",
              "  <tbody>\n",
              "    <tr>\n",
              "      <th>1638</th>\n",
              "      <td>ZÃ¡sah policie proti spekulant?m s rouÂkami. ...</td>\n",
              "      <td>Neutral</td>\n",
              "      <td>zsah policie proti spekulantm s roukami na mj ...</td>\n",
              "      <td>39</td>\n",
              "      <td>100</td>\n",
              "    </tr>\n",
              "    <tr>\n",
              "      <th>37156</th>\n",
              "      <td>11 Nisan Cumartesi itibariyle ?BBÂnin tÃ¼m hi...</td>\n",
              "      <td>Neutral</td>\n",
              "      <td>11 nisan cumartesi itibariyle bbnin tm hizmetl...</td>\n",
              "      <td>39</td>\n",
              "      <td>98</td>\n",
              "    </tr>\n",
              "    <tr>\n",
              "      <th>16632</th>\n",
              "      <td>Bir mÃ¼ddettir sÃ¼permarketlerin lojistik hizm...</td>\n",
              "      <td>Neutral</td>\n",
              "      <td>bir mddettir spermarketlerin lojistik hizmeti ...</td>\n",
              "      <td>36</td>\n",
              "      <td>92</td>\n",
              "    </tr>\n",
              "    <tr>\n",
              "      <th>13691</th>\n",
              "      <td>Hoy aplaudo a mi segunda familia #AplaudoANues...</td>\n",
              "      <td>Neutral</td>\n",
              "      <td>hoy aplaudo a mi segunda familia aplaudoanuest...</td>\n",
              "      <td>38</td>\n",
              "      <td>84</td>\n",
              "    </tr>\n",
              "    <tr>\n",
              "      <th>27005</th>\n",
              "      <td>Supermercados Econo confirman que un empleado ...</td>\n",
              "      <td>Neutral</td>\n",
              "      <td>supermercados econo confirman que un empleado ...</td>\n",
              "      <td>39</td>\n",
              "      <td>80</td>\n",
              "    </tr>\n",
              "    <tr>\n",
              "      <th>14593</th>\n",
              "      <td>Na, wer war denn da am Werk? Gestern Nachmitta...</td>\n",
              "      <td>Extremely Negative</td>\n",
              "      <td>na wer war denn da am werk gestern nachmittag ...</td>\n",
              "      <td>37</td>\n",
              "      <td>80</td>\n",
              "    </tr>\n",
              "    <tr>\n",
              "      <th>28899</th>\n",
              "      <td>Kindly contact Us bamy global merchandise for ...</td>\n",
              "      <td>Positive</td>\n",
              "      <td>kindly contact us bamy global merchandise for ...</td>\n",
              "      <td>37</td>\n",
              "      <td>80</td>\n",
              "    </tr>\n",
              "    <tr>\n",
              "      <th>11213</th>\n",
              "      <td>Keine WertgegenstÃ¤nde im Fahrzeug lassen! - D...</td>\n",
              "      <td>Negative</td>\n",
              "      <td>keine wertgegenstnde im fahrzeug lassen diesen...</td>\n",
              "      <td>33</td>\n",
              "      <td>79</td>\n",
              "    </tr>\n",
              "  </tbody>\n",
              "</table>\n",
              "</div>\n",
              "      <button class=\"colab-df-convert\" onclick=\"convertToInteractive('df-492feb6f-c691-4a1d-a12b-1d4b09aef694')\"\n",
              "              title=\"Convert this dataframe to an interactive table.\"\n",
              "              style=\"display:none;\">\n",
              "        \n",
              "  <svg xmlns=\"http://www.w3.org/2000/svg\" height=\"24px\"viewBox=\"0 0 24 24\"\n",
              "       width=\"24px\">\n",
              "    <path d=\"M0 0h24v24H0V0z\" fill=\"none\"/>\n",
              "    <path d=\"M18.56 5.44l.94 2.06.94-2.06 2.06-.94-2.06-.94-.94-2.06-.94 2.06-2.06.94zm-11 1L8.5 8.5l.94-2.06 2.06-.94-2.06-.94L8.5 2.5l-.94 2.06-2.06.94zm10 10l.94 2.06.94-2.06 2.06-.94-2.06-.94-.94-2.06-.94 2.06-2.06.94z\"/><path d=\"M17.41 7.96l-1.37-1.37c-.4-.4-.92-.59-1.43-.59-.52 0-1.04.2-1.43.59L10.3 9.45l-7.72 7.72c-.78.78-.78 2.05 0 2.83L4 21.41c.39.39.9.59 1.41.59.51 0 1.02-.2 1.41-.59l7.78-7.78 2.81-2.81c.8-.78.8-2.07 0-2.86zM5.41 20L4 18.59l7.72-7.72 1.47 1.35L5.41 20z\"/>\n",
              "  </svg>\n",
              "      </button>\n",
              "      \n",
              "  <style>\n",
              "    .colab-df-container {\n",
              "      display:flex;\n",
              "      flex-wrap:wrap;\n",
              "      gap: 12px;\n",
              "    }\n",
              "\n",
              "    .colab-df-convert {\n",
              "      background-color: #E8F0FE;\n",
              "      border: none;\n",
              "      border-radius: 50%;\n",
              "      cursor: pointer;\n",
              "      display: none;\n",
              "      fill: #1967D2;\n",
              "      height: 32px;\n",
              "      padding: 0 0 0 0;\n",
              "      width: 32px;\n",
              "    }\n",
              "\n",
              "    .colab-df-convert:hover {\n",
              "      background-color: #E2EBFA;\n",
              "      box-shadow: 0px 1px 2px rgba(60, 64, 67, 0.3), 0px 1px 3px 1px rgba(60, 64, 67, 0.15);\n",
              "      fill: #174EA6;\n",
              "    }\n",
              "\n",
              "    [theme=dark] .colab-df-convert {\n",
              "      background-color: #3B4455;\n",
              "      fill: #D2E3FC;\n",
              "    }\n",
              "\n",
              "    [theme=dark] .colab-df-convert:hover {\n",
              "      background-color: #434B5C;\n",
              "      box-shadow: 0px 1px 3px 1px rgba(0, 0, 0, 0.15);\n",
              "      filter: drop-shadow(0px 1px 2px rgba(0, 0, 0, 0.3));\n",
              "      fill: #FFFFFF;\n",
              "    }\n",
              "  </style>\n",
              "\n",
              "      <script>\n",
              "        const buttonEl =\n",
              "          document.querySelector('#df-492feb6f-c691-4a1d-a12b-1d4b09aef694 button.colab-df-convert');\n",
              "        buttonEl.style.display =\n",
              "          google.colab.kernel.accessAllowed ? 'block' : 'none';\n",
              "\n",
              "        async function convertToInteractive(key) {\n",
              "          const element = document.querySelector('#df-492feb6f-c691-4a1d-a12b-1d4b09aef694');\n",
              "          const dataTable =\n",
              "            await google.colab.kernel.invokeFunction('convertToInteractive',\n",
              "                                                     [key], {});\n",
              "          if (!dataTable) return;\n",
              "\n",
              "          const docLinkHtml = 'Like what you see? Visit the ' +\n",
              "            '<a target=\"_blank\" href=https://colab.research.google.com/notebooks/data_table.ipynb>data table notebook</a>'\n",
              "            + ' to learn more about interactive tables.';\n",
              "          element.innerHTML = '';\n",
              "          dataTable['output_type'] = 'display_data';\n",
              "          await google.colab.output.renderOutput(dataTable, element);\n",
              "          const docLink = document.createElement('div');\n",
              "          docLink.innerHTML = docLinkHtml;\n",
              "          element.appendChild(docLink);\n",
              "        }\n",
              "      </script>\n",
              "    </div>\n",
              "  </div>\n",
              "  "
            ],
            "text/plain": [
              "                                           OriginalTweet           Sentiment  \\\n",
              "1638   ZÃ¡sah policie proti spekulant?m s rouÂkami. ...             Neutral   \n",
              "37156  11 Nisan Cumartesi itibariyle ?BBÂnin tÃ¼m hi...             Neutral   \n",
              "16632  Bir mÃ¼ddettir sÃ¼permarketlerin lojistik hizm...             Neutral   \n",
              "13691  Hoy aplaudo a mi segunda familia #AplaudoANues...             Neutral   \n",
              "27005  Supermercados Econo confirman que un empleado ...             Neutral   \n",
              "14593  Na, wer war denn da am Werk? Gestern Nachmitta...  Extremely Negative   \n",
              "28899  Kindly contact Us bamy global merchandise for ...            Positive   \n",
              "11213  Keine WertgegenstÃ¤nde im Fahrzeug lassen! - D...            Negative   \n",
              "\n",
              "                                              text_clean  text_len  token_lens  \n",
              "1638   zsah policie proti spekulantm s roukami na mj ...        39         100  \n",
              "37156  11 nisan cumartesi itibariyle bbnin tm hizmetl...        39          98  \n",
              "16632  bir mddettir spermarketlerin lojistik hizmeti ...        36          92  \n",
              "13691  hoy aplaudo a mi segunda familia aplaudoanuest...        38          84  \n",
              "27005  supermercados econo confirman que un empleado ...        39          80  \n",
              "14593  na wer war denn da am werk gestern nachmittag ...        37          80  \n",
              "28899  kindly contact us bamy global merchandise for ...        37          80  \n",
              "11213  keine wertgegenstnde im fahrzeug lassen diesen...        33          79  "
            ]
          },
          "execution_count": 22,
          "metadata": {},
          "output_type": "execute_result"
        }
      ],
      "source": [
        "# these sentences are not in english, so let's remove them\n",
        "df['token_lens'] = token_lens\n",
        "\n",
        "df = df.sort_values(by='token_lens', ascending=False)\n",
        "df.head(8)"
      ]
    },
    {
      "cell_type": "code",
      "execution_count": 23,
      "metadata": {
        "colab": {
          "base_uri": "https://localhost:8080/",
          "height": 206
        },
        "id": "Za-9Uz7sBj15",
        "outputId": "fcbedb80-44ae-4c71-ca09-591b33b45e08"
      },
      "outputs": [
        {
          "data": {
            "text/html": [
              "\n",
              "  <div id=\"df-f6518179-293b-426d-8ea1-1f55d45df01d\">\n",
              "    <div class=\"colab-df-container\">\n",
              "      <div>\n",
              "<style scoped>\n",
              "    .dataframe tbody tr th:only-of-type {\n",
              "        vertical-align: middle;\n",
              "    }\n",
              "\n",
              "    .dataframe tbody tr th {\n",
              "        vertical-align: top;\n",
              "    }\n",
              "\n",
              "    .dataframe thead th {\n",
              "        text-align: right;\n",
              "    }\n",
              "</style>\n",
              "<table border=\"1\" class=\"dataframe\">\n",
              "  <thead>\n",
              "    <tr style=\"text-align: right;\">\n",
              "      <th></th>\n",
              "      <th>OriginalTweet</th>\n",
              "      <th>Sentiment</th>\n",
              "      <th>text_clean</th>\n",
              "      <th>text_len</th>\n",
              "      <th>token_lens</th>\n",
              "    </tr>\n",
              "  </thead>\n",
              "  <tbody>\n",
              "    <tr>\n",
              "      <th>0</th>\n",
              "      <td>COVID-19's impact on consumer and business beh...</td>\n",
              "      <td>Neutral</td>\n",
              "      <td>covid19s impact on consumer and business behavior</td>\n",
              "      <td>7</td>\n",
              "      <td>12</td>\n",
              "    </tr>\n",
              "    <tr>\n",
              "      <th>1</th>\n",
              "      <td>@MillieReagan @CarthyNc @annesheridan1 @SimonH...</td>\n",
              "      <td>Extremely Negative</td>\n",
              "      <td>what makes you say the spread of flu is uncont...</td>\n",
              "      <td>33</td>\n",
              "      <td>40</td>\n",
              "    </tr>\n",
              "    <tr>\n",
              "      <th>2</th>\n",
              "      <td>Washing hands with SOAP   fights Here s why it...</td>\n",
              "      <td>Neutral</td>\n",
              "      <td>washing hands with soap fights here s why it w...</td>\n",
              "      <td>12</td>\n",
              "      <td>14</td>\n",
              "    </tr>\n",
              "    <tr>\n",
              "      <th>3</th>\n",
              "      <td>It was a nice surprise. #coronavirus #toiletpa...</td>\n",
              "      <td>Positive</td>\n",
              "      <td>it was a nice surprise coronavirus toiletpaper...</td>\n",
              "      <td>12</td>\n",
              "      <td>26</td>\n",
              "    </tr>\n",
              "    <tr>\n",
              "      <th>4</th>\n",
              "      <td>Police patrolling at Leeds supermarket to enfo...</td>\n",
              "      <td>Neutral</td>\n",
              "      <td>police patrolling at leeds supermarket to enfo...</td>\n",
              "      <td>9</td>\n",
              "      <td>13</td>\n",
              "    </tr>\n",
              "  </tbody>\n",
              "</table>\n",
              "</div>\n",
              "      <button class=\"colab-df-convert\" onclick=\"convertToInteractive('df-f6518179-293b-426d-8ea1-1f55d45df01d')\"\n",
              "              title=\"Convert this dataframe to an interactive table.\"\n",
              "              style=\"display:none;\">\n",
              "        \n",
              "  <svg xmlns=\"http://www.w3.org/2000/svg\" height=\"24px\"viewBox=\"0 0 24 24\"\n",
              "       width=\"24px\">\n",
              "    <path d=\"M0 0h24v24H0V0z\" fill=\"none\"/>\n",
              "    <path d=\"M18.56 5.44l.94 2.06.94-2.06 2.06-.94-2.06-.94-.94-2.06-.94 2.06-2.06.94zm-11 1L8.5 8.5l.94-2.06 2.06-.94-2.06-.94L8.5 2.5l-.94 2.06-2.06.94zm10 10l.94 2.06.94-2.06 2.06-.94-2.06-.94-.94-2.06-.94 2.06-2.06.94z\"/><path d=\"M17.41 7.96l-1.37-1.37c-.4-.4-.92-.59-1.43-.59-.52 0-1.04.2-1.43.59L10.3 9.45l-7.72 7.72c-.78.78-.78 2.05 0 2.83L4 21.41c.39.39.9.59 1.41.59.51 0 1.02-.2 1.41-.59l7.78-7.78 2.81-2.81c.8-.78.8-2.07 0-2.86zM5.41 20L4 18.59l7.72-7.72 1.47 1.35L5.41 20z\"/>\n",
              "  </svg>\n",
              "      </button>\n",
              "      \n",
              "  <style>\n",
              "    .colab-df-container {\n",
              "      display:flex;\n",
              "      flex-wrap:wrap;\n",
              "      gap: 12px;\n",
              "    }\n",
              "\n",
              "    .colab-df-convert {\n",
              "      background-color: #E8F0FE;\n",
              "      border: none;\n",
              "      border-radius: 50%;\n",
              "      cursor: pointer;\n",
              "      display: none;\n",
              "      fill: #1967D2;\n",
              "      height: 32px;\n",
              "      padding: 0 0 0 0;\n",
              "      width: 32px;\n",
              "    }\n",
              "\n",
              "    .colab-df-convert:hover {\n",
              "      background-color: #E2EBFA;\n",
              "      box-shadow: 0px 1px 2px rgba(60, 64, 67, 0.3), 0px 1px 3px 1px rgba(60, 64, 67, 0.15);\n",
              "      fill: #174EA6;\n",
              "    }\n",
              "\n",
              "    [theme=dark] .colab-df-convert {\n",
              "      background-color: #3B4455;\n",
              "      fill: #D2E3FC;\n",
              "    }\n",
              "\n",
              "    [theme=dark] .colab-df-convert:hover {\n",
              "      background-color: #434B5C;\n",
              "      box-shadow: 0px 1px 3px 1px rgba(0, 0, 0, 0.15);\n",
              "      filter: drop-shadow(0px 1px 2px rgba(0, 0, 0, 0.3));\n",
              "      fill: #FFFFFF;\n",
              "    }\n",
              "  </style>\n",
              "\n",
              "      <script>\n",
              "        const buttonEl =\n",
              "          document.querySelector('#df-f6518179-293b-426d-8ea1-1f55d45df01d button.colab-df-convert');\n",
              "        buttonEl.style.display =\n",
              "          google.colab.kernel.accessAllowed ? 'block' : 'none';\n",
              "\n",
              "        async function convertToInteractive(key) {\n",
              "          const element = document.querySelector('#df-f6518179-293b-426d-8ea1-1f55d45df01d');\n",
              "          const dataTable =\n",
              "            await google.colab.kernel.invokeFunction('convertToInteractive',\n",
              "                                                     [key], {});\n",
              "          if (!dataTable) return;\n",
              "\n",
              "          const docLinkHtml = 'Like what you see? Visit the ' +\n",
              "            '<a target=\"_blank\" href=https://colab.research.google.com/notebooks/data_table.ipynb>data table notebook</a>'\n",
              "            + ' to learn more about interactive tables.';\n",
              "          element.innerHTML = '';\n",
              "          dataTable['output_type'] = 'display_data';\n",
              "          await google.colab.output.renderOutput(dataTable, element);\n",
              "          const docLink = document.createElement('div');\n",
              "          docLink.innerHTML = docLinkHtml;\n",
              "          element.appendChild(docLink);\n",
              "        }\n",
              "      </script>\n",
              "    </div>\n",
              "  </div>\n",
              "  "
            ],
            "text/plain": [
              "                                       OriginalTweet           Sentiment  \\\n",
              "0  COVID-19's impact on consumer and business beh...             Neutral   \n",
              "1  @MillieReagan @CarthyNc @annesheridan1 @SimonH...  Extremely Negative   \n",
              "2  Washing hands with SOAP   fights Here s why it...             Neutral   \n",
              "3  It was a nice surprise. #coronavirus #toiletpa...            Positive   \n",
              "4  Police patrolling at Leeds supermarket to enfo...             Neutral   \n",
              "\n",
              "                                          text_clean  text_len  token_lens  \n",
              "0  covid19s impact on consumer and business behavior         7          12  \n",
              "1  what makes you say the spread of flu is uncont...        33          40  \n",
              "2  washing hands with soap fights here s why it w...        12          14  \n",
              "3  it was a nice surprise coronavirus toiletpaper...        12          26  \n",
              "4  police patrolling at leeds supermarket to enfo...         9          13  "
            ]
          },
          "execution_count": 23,
          "metadata": {},
          "output_type": "execute_result"
        }
      ],
      "source": [
        "df = df.iloc[12:]\n",
        "df = df.sample(frac=1).reset_index(drop=True)\n",
        "df.head()"
      ]
    },
    {
      "cell_type": "code",
      "execution_count": 24,
      "metadata": {
        "colab": {
          "base_uri": "https://localhost:8080/"
        },
        "id": "dVdxANjOByTh",
        "outputId": "290aa27e-23da-4a04-f236-124328834972"
      },
      "outputs": [
        {
          "name": "stdout",
          "output_type": "stream",
          "text": [
            "INDEX: 286, TEXT: so hard to decide as much as i want to hodl my 2 ccdcv4 token our place is declared to lock down due to covid19 i will use this to buy some food to stock txnid093bd1db0c0d3a62af15883138a5f57d4cef35ae14e31e602b74489dd2524c7f my b\n",
            "INDEX: 345, TEXT: informoval jsem zstupce vech obchodnch etzc o aktulnch opatench vldy etzce jsou zsobovny na 95 take nen dvod panikait zsoby potravin fakt nedojdou nen opravdu dvod dnes obsadit a vykoupit supermarkety\n",
            "INDEX: 2380, TEXT: ahora seguid llorando por el papel higinico que no he comprado porque an tengo seguid creando histeria y preocupacin poniendo fotos de gente en pnico y estanteras vacas que yo seguir yendo a comercios responsables de barrio donde nos cuidan hoy y siempre gracias\n"
          ]
        }
      ],
      "source": [
        "# ditto for the test set\n",
        "\n",
        "token_lens_test = []\n",
        "for i,txt in enumerate(df_test['text_clean'].values):\n",
        "    tokens = tokenizer.encode(txt, max_length=512, truncation=True)\n",
        "    token_lens_test.append(len(tokens))\n",
        "    if len(tokens)>80:\n",
        "        print(f\"INDEX: {i}, TEXT: {txt}\")"
      ]
    },
    {
      "cell_type": "code",
      "execution_count": 25,
      "metadata": {
        "colab": {
          "base_uri": "https://localhost:8080/",
          "height": 206
        },
        "id": "CYF-h7FEB-3q",
        "outputId": "c3c50506-4895-4d11-f056-36eedd3af7d4"
      },
      "outputs": [
        {
          "data": {
            "text/html": [
              "\n",
              "  <div id=\"df-6c3b3a5d-bdc0-4315-bbae-0ccfc1b8c4b9\">\n",
              "    <div class=\"colab-df-container\">\n",
              "      <div>\n",
              "<style scoped>\n",
              "    .dataframe tbody tr th:only-of-type {\n",
              "        vertical-align: middle;\n",
              "    }\n",
              "\n",
              "    .dataframe tbody tr th {\n",
              "        vertical-align: top;\n",
              "    }\n",
              "\n",
              "    .dataframe thead th {\n",
              "        text-align: right;\n",
              "    }\n",
              "</style>\n",
              "<table border=\"1\" class=\"dataframe\">\n",
              "  <thead>\n",
              "    <tr style=\"text-align: right;\">\n",
              "      <th></th>\n",
              "      <th>OriginalTweet</th>\n",
              "      <th>Sentiment</th>\n",
              "      <th>text_clean</th>\n",
              "      <th>text_len</th>\n",
              "      <th>token_lens</th>\n",
              "    </tr>\n",
              "  </thead>\n",
              "  <tbody>\n",
              "    <tr>\n",
              "      <th>286</th>\n",
              "      <td>@Rhett800cc So hard to decide??. As much as I ...</td>\n",
              "      <td>Negative</td>\n",
              "      <td>so hard to decide as much as i want to hodl my...</td>\n",
              "      <td>38</td>\n",
              "      <td>96</td>\n",
              "    </tr>\n",
              "    <tr>\n",
              "      <th>2383</th>\n",
              "      <td>Ahora seguid llorando por el papel higiénico (...</td>\n",
              "      <td>Negative</td>\n",
              "      <td>ahora seguid llorando por el papel higinico qu...</td>\n",
              "      <td>44</td>\n",
              "      <td>94</td>\n",
              "    </tr>\n",
              "    <tr>\n",
              "      <th>345</th>\n",
              "      <td>Informoval jsem zástupce vech obchodních ?et?...</td>\n",
              "      <td>Neutral</td>\n",
              "      <td>informoval jsem zstupce vech obchodnch etzc o ...</td>\n",
              "      <td>31</td>\n",
              "      <td>86</td>\n",
              "    </tr>\n",
              "    <tr>\n",
              "      <th>1485</th>\n",
              "      <td>DTF-Dont Touch Face\\r\\r\\nDWBH-Do Wash Both Ha...</td>\n",
              "      <td>Extremely Negative</td>\n",
              "      <td>dtfdont touch face dwbhdo wash both hands gtfo...</td>\n",
              "      <td>42</td>\n",
              "      <td>77</td>\n",
              "    </tr>\n",
              "    <tr>\n",
              "      <th>1209</th>\n",
              "      <td>Im in the DC/Maryland/Virginia (DMV) area &amp;am...</td>\n",
              "      <td>Positive</td>\n",
              "      <td>im in the dcmarylandvirginia dmv area amphave ...</td>\n",
              "      <td>45</td>\n",
              "      <td>74</td>\n",
              "    </tr>\n",
              "  </tbody>\n",
              "</table>\n",
              "</div>\n",
              "      <button class=\"colab-df-convert\" onclick=\"convertToInteractive('df-6c3b3a5d-bdc0-4315-bbae-0ccfc1b8c4b9')\"\n",
              "              title=\"Convert this dataframe to an interactive table.\"\n",
              "              style=\"display:none;\">\n",
              "        \n",
              "  <svg xmlns=\"http://www.w3.org/2000/svg\" height=\"24px\"viewBox=\"0 0 24 24\"\n",
              "       width=\"24px\">\n",
              "    <path d=\"M0 0h24v24H0V0z\" fill=\"none\"/>\n",
              "    <path d=\"M18.56 5.44l.94 2.06.94-2.06 2.06-.94-2.06-.94-.94-2.06-.94 2.06-2.06.94zm-11 1L8.5 8.5l.94-2.06 2.06-.94-2.06-.94L8.5 2.5l-.94 2.06-2.06.94zm10 10l.94 2.06.94-2.06 2.06-.94-2.06-.94-.94-2.06-.94 2.06-2.06.94z\"/><path d=\"M17.41 7.96l-1.37-1.37c-.4-.4-.92-.59-1.43-.59-.52 0-1.04.2-1.43.59L10.3 9.45l-7.72 7.72c-.78.78-.78 2.05 0 2.83L4 21.41c.39.39.9.59 1.41.59.51 0 1.02-.2 1.41-.59l7.78-7.78 2.81-2.81c.8-.78.8-2.07 0-2.86zM5.41 20L4 18.59l7.72-7.72 1.47 1.35L5.41 20z\"/>\n",
              "  </svg>\n",
              "      </button>\n",
              "      \n",
              "  <style>\n",
              "    .colab-df-container {\n",
              "      display:flex;\n",
              "      flex-wrap:wrap;\n",
              "      gap: 12px;\n",
              "    }\n",
              "\n",
              "    .colab-df-convert {\n",
              "      background-color: #E8F0FE;\n",
              "      border: none;\n",
              "      border-radius: 50%;\n",
              "      cursor: pointer;\n",
              "      display: none;\n",
              "      fill: #1967D2;\n",
              "      height: 32px;\n",
              "      padding: 0 0 0 0;\n",
              "      width: 32px;\n",
              "    }\n",
              "\n",
              "    .colab-df-convert:hover {\n",
              "      background-color: #E2EBFA;\n",
              "      box-shadow: 0px 1px 2px rgba(60, 64, 67, 0.3), 0px 1px 3px 1px rgba(60, 64, 67, 0.15);\n",
              "      fill: #174EA6;\n",
              "    }\n",
              "\n",
              "    [theme=dark] .colab-df-convert {\n",
              "      background-color: #3B4455;\n",
              "      fill: #D2E3FC;\n",
              "    }\n",
              "\n",
              "    [theme=dark] .colab-df-convert:hover {\n",
              "      background-color: #434B5C;\n",
              "      box-shadow: 0px 1px 3px 1px rgba(0, 0, 0, 0.15);\n",
              "      filter: drop-shadow(0px 1px 2px rgba(0, 0, 0, 0.3));\n",
              "      fill: #FFFFFF;\n",
              "    }\n",
              "  </style>\n",
              "\n",
              "      <script>\n",
              "        const buttonEl =\n",
              "          document.querySelector('#df-6c3b3a5d-bdc0-4315-bbae-0ccfc1b8c4b9 button.colab-df-convert');\n",
              "        buttonEl.style.display =\n",
              "          google.colab.kernel.accessAllowed ? 'block' : 'none';\n",
              "\n",
              "        async function convertToInteractive(key) {\n",
              "          const element = document.querySelector('#df-6c3b3a5d-bdc0-4315-bbae-0ccfc1b8c4b9');\n",
              "          const dataTable =\n",
              "            await google.colab.kernel.invokeFunction('convertToInteractive',\n",
              "                                                     [key], {});\n",
              "          if (!dataTable) return;\n",
              "\n",
              "          const docLinkHtml = 'Like what you see? Visit the ' +\n",
              "            '<a target=\"_blank\" href=https://colab.research.google.com/notebooks/data_table.ipynb>data table notebook</a>'\n",
              "            + ' to learn more about interactive tables.';\n",
              "          element.innerHTML = '';\n",
              "          dataTable['output_type'] = 'display_data';\n",
              "          await google.colab.output.renderOutput(dataTable, element);\n",
              "          const docLink = document.createElement('div');\n",
              "          docLink.innerHTML = docLinkHtml;\n",
              "          element.appendChild(docLink);\n",
              "        }\n",
              "      </script>\n",
              "    </div>\n",
              "  </div>\n",
              "  "
            ],
            "text/plain": [
              "                                          OriginalTweet           Sentiment  \\\n",
              "286   @Rhett800cc So hard to decide??. As much as I ...            Negative   \n",
              "2383  Ahora seguid llorando por el papel higiénico (...            Negative   \n",
              "345   Informoval jsem zástupce vech obchodních ?et?...             Neutral   \n",
              "1485  DTF-Dont Touch Face\\r\\r\\nDWBH-Do Wash Both Ha...  Extremely Negative   \n",
              "1209  Im in the DC/Maryland/Virginia (DMV) area &am...            Positive   \n",
              "\n",
              "                                             text_clean  text_len  token_lens  \n",
              "286   so hard to decide as much as i want to hodl my...        38          96  \n",
              "2383  ahora seguid llorando por el papel higinico qu...        44          94  \n",
              "345   informoval jsem zstupce vech obchodnch etzc o ...        31          86  \n",
              "1485  dtfdont touch face dwbhdo wash both hands gtfo...        42          77  \n",
              "1209  im in the dcmarylandvirginia dmv area amphave ...        45          74  "
            ]
          },
          "execution_count": 25,
          "metadata": {},
          "output_type": "execute_result"
        }
      ],
      "source": [
        "df_test['token_lens'] = token_lens_test\n",
        "df_test = df_test.sort_values(by='token_lens', ascending=False)\n",
        "df_test.head()"
      ]
    },
    {
      "cell_type": "code",
      "execution_count": 26,
      "metadata": {
        "colab": {
          "base_uri": "https://localhost:8080/",
          "height": 143
        },
        "id": "jFBoI4OQCDw-",
        "outputId": "c77f7229-f887-4d36-e705-682a84babfe5"
      },
      "outputs": [
        {
          "data": {
            "text/html": [
              "\n",
              "  <div id=\"df-0d1d79a4-cb2b-491c-a459-13ae55fdf754\">\n",
              "    <div class=\"colab-df-container\">\n",
              "      <div>\n",
              "<style scoped>\n",
              "    .dataframe tbody tr th:only-of-type {\n",
              "        vertical-align: middle;\n",
              "    }\n",
              "\n",
              "    .dataframe tbody tr th {\n",
              "        vertical-align: top;\n",
              "    }\n",
              "\n",
              "    .dataframe thead th {\n",
              "        text-align: right;\n",
              "    }\n",
              "</style>\n",
              "<table border=\"1\" class=\"dataframe\">\n",
              "  <thead>\n",
              "    <tr style=\"text-align: right;\">\n",
              "      <th></th>\n",
              "      <th>OriginalTweet</th>\n",
              "      <th>Sentiment</th>\n",
              "      <th>text_clean</th>\n",
              "      <th>text_len</th>\n",
              "      <th>token_lens</th>\n",
              "    </tr>\n",
              "  </thead>\n",
              "  <tbody>\n",
              "    <tr>\n",
              "      <th>0</th>\n",
              "      <td>My grocery store in Montreal. It is usually co...</td>\n",
              "      <td>Neutral</td>\n",
              "      <td>my grocery store in montreal it is usually com...</td>\n",
              "      <td>13</td>\n",
              "      <td>24</td>\n",
              "    </tr>\n",
              "    <tr>\n",
              "      <th>1</th>\n",
              "      <td>The line up at 12.39am Saturday morning at Col...</td>\n",
              "      <td>Negative</td>\n",
              "      <td>the line up at 1239am saturday morning at cole...</td>\n",
              "      <td>28</td>\n",
              "      <td>48</td>\n",
              "    </tr>\n",
              "    <tr>\n",
              "      <th>2</th>\n",
              "      <td>Britain s food retailers published an open let...</td>\n",
              "      <td>Negative</td>\n",
              "      <td>britain s food retailers published an open let...</td>\n",
              "      <td>23</td>\n",
              "      <td>26</td>\n",
              "    </tr>\n",
              "  </tbody>\n",
              "</table>\n",
              "</div>\n",
              "      <button class=\"colab-df-convert\" onclick=\"convertToInteractive('df-0d1d79a4-cb2b-491c-a459-13ae55fdf754')\"\n",
              "              title=\"Convert this dataframe to an interactive table.\"\n",
              "              style=\"display:none;\">\n",
              "        \n",
              "  <svg xmlns=\"http://www.w3.org/2000/svg\" height=\"24px\"viewBox=\"0 0 24 24\"\n",
              "       width=\"24px\">\n",
              "    <path d=\"M0 0h24v24H0V0z\" fill=\"none\"/>\n",
              "    <path d=\"M18.56 5.44l.94 2.06.94-2.06 2.06-.94-2.06-.94-.94-2.06-.94 2.06-2.06.94zm-11 1L8.5 8.5l.94-2.06 2.06-.94-2.06-.94L8.5 2.5l-.94 2.06-2.06.94zm10 10l.94 2.06.94-2.06 2.06-.94-2.06-.94-.94-2.06-.94 2.06-2.06.94z\"/><path d=\"M17.41 7.96l-1.37-1.37c-.4-.4-.92-.59-1.43-.59-.52 0-1.04.2-1.43.59L10.3 9.45l-7.72 7.72c-.78.78-.78 2.05 0 2.83L4 21.41c.39.39.9.59 1.41.59.51 0 1.02-.2 1.41-.59l7.78-7.78 2.81-2.81c.8-.78.8-2.07 0-2.86zM5.41 20L4 18.59l7.72-7.72 1.47 1.35L5.41 20z\"/>\n",
              "  </svg>\n",
              "      </button>\n",
              "      \n",
              "  <style>\n",
              "    .colab-df-container {\n",
              "      display:flex;\n",
              "      flex-wrap:wrap;\n",
              "      gap: 12px;\n",
              "    }\n",
              "\n",
              "    .colab-df-convert {\n",
              "      background-color: #E8F0FE;\n",
              "      border: none;\n",
              "      border-radius: 50%;\n",
              "      cursor: pointer;\n",
              "      display: none;\n",
              "      fill: #1967D2;\n",
              "      height: 32px;\n",
              "      padding: 0 0 0 0;\n",
              "      width: 32px;\n",
              "    }\n",
              "\n",
              "    .colab-df-convert:hover {\n",
              "      background-color: #E2EBFA;\n",
              "      box-shadow: 0px 1px 2px rgba(60, 64, 67, 0.3), 0px 1px 3px 1px rgba(60, 64, 67, 0.15);\n",
              "      fill: #174EA6;\n",
              "    }\n",
              "\n",
              "    [theme=dark] .colab-df-convert {\n",
              "      background-color: #3B4455;\n",
              "      fill: #D2E3FC;\n",
              "    }\n",
              "\n",
              "    [theme=dark] .colab-df-convert:hover {\n",
              "      background-color: #434B5C;\n",
              "      box-shadow: 0px 1px 3px 1px rgba(0, 0, 0, 0.15);\n",
              "      filter: drop-shadow(0px 1px 2px rgba(0, 0, 0, 0.3));\n",
              "      fill: #FFFFFF;\n",
              "    }\n",
              "  </style>\n",
              "\n",
              "      <script>\n",
              "        const buttonEl =\n",
              "          document.querySelector('#df-0d1d79a4-cb2b-491c-a459-13ae55fdf754 button.colab-df-convert');\n",
              "        buttonEl.style.display =\n",
              "          google.colab.kernel.accessAllowed ? 'block' : 'none';\n",
              "\n",
              "        async function convertToInteractive(key) {\n",
              "          const element = document.querySelector('#df-0d1d79a4-cb2b-491c-a459-13ae55fdf754');\n",
              "          const dataTable =\n",
              "            await google.colab.kernel.invokeFunction('convertToInteractive',\n",
              "                                                     [key], {});\n",
              "          if (!dataTable) return;\n",
              "\n",
              "          const docLinkHtml = 'Like what you see? Visit the ' +\n",
              "            '<a target=\"_blank\" href=https://colab.research.google.com/notebooks/data_table.ipynb>data table notebook</a>'\n",
              "            + ' to learn more about interactive tables.';\n",
              "          element.innerHTML = '';\n",
              "          dataTable['output_type'] = 'display_data';\n",
              "          await google.colab.output.renderOutput(dataTable, element);\n",
              "          const docLink = document.createElement('div');\n",
              "          docLink.innerHTML = docLinkHtml;\n",
              "          element.appendChild(docLink);\n",
              "        }\n",
              "      </script>\n",
              "    </div>\n",
              "  </div>\n",
              "  "
            ],
            "text/plain": [
              "                                       OriginalTweet Sentiment  \\\n",
              "0  My grocery store in Montreal. It is usually co...   Neutral   \n",
              "1  The line up at 12.39am Saturday morning at Col...  Negative   \n",
              "2  Britain s food retailers published an open let...  Negative   \n",
              "\n",
              "                                          text_clean  text_len  token_lens  \n",
              "0  my grocery store in montreal it is usually com...        13          24  \n",
              "1  the line up at 1239am saturday morning at cole...        28          48  \n",
              "2  britain s food retailers published an open let...        23          26  "
            ]
          },
          "execution_count": 26,
          "metadata": {},
          "output_type": "execute_result"
        }
      ],
      "source": [
        "df_test = df_test.iloc[5:]\n",
        "df_test = df_test.sample(frac=1).reset_index(drop=True)\n",
        "df_test.head(3)"
      ]
    },
    {
      "cell_type": "markdown",
      "metadata": {
        "id": "Uuixh4Y_D82O"
      },
      "source": [
        "## Preparation for modeling"
      ]
    },
    {
      "cell_type": "markdown",
      "metadata": {},
      "source": [
        "Now that the texts are clean, let's adjust the labels of the classes of the variable of interest ('Sentiment') to be only with the classes 'negative', 'positive' and 'neutral"
      ]
    },
    {
      "cell_type": "code",
      "execution_count": 27,
      "metadata": {
        "colab": {
          "base_uri": "https://localhost:8080/"
        },
        "id": "AuimzGFTCIqx",
        "outputId": "ffa89289-1607-41d0-ff84-97233d6565a2"
      },
      "outputs": [
        {
          "data": {
            "text/plain": [
              "Positive              11381\n",
              "Negative               9889\n",
              "Neutral                7560\n",
              "Extremely Positive     6618\n",
              "Extremely Negative     5475\n",
              "Name: Sentiment, dtype: int64"
            ]
          },
          "execution_count": 27,
          "metadata": {},
          "output_type": "execute_result"
        }
      ],
      "source": [
        "df['Sentiment'].value_counts()"
      ]
    },
    {
      "cell_type": "code",
      "execution_count": 28,
      "metadata": {
        "colab": {
          "base_uri": "https://localhost:8080/"
        },
        "id": "l1-m8gpaCq1e",
        "outputId": "94e4ea0f-61f3-4e1d-971d-8e334323bc7f"
      },
      "outputs": [
        {
          "data": {
            "text/plain": [
              "2    17999\n",
              "0    15364\n",
              "1     7560\n",
              "Name: Sentiment, dtype: int64"
            ]
          },
          "execution_count": 28,
          "metadata": {},
          "output_type": "execute_result"
        }
      ],
      "source": [
        "# in addition to reducing the number of classes, we are now going to assign numerical values ​​to them\n",
        "\n",
        "df['Sentiment'] = df['Sentiment'].map({'Extremely Negative':0,'Negative':0,'Neutral':1,'Positive':2,'Extremely Positive':2})\n",
        "df_test['Sentiment'] = df_test['Sentiment'].map({'Extremely Negative':0,'Negative':0,'Neutral':1,'Positive':2,'Extremely Positive':2})\n",
        "\n",
        "df['Sentiment'].value_counts()"
      ]
    },
    {
      "cell_type": "code",
      "execution_count": 29,
      "metadata": {
        "colab": {
          "base_uri": "https://localhost:8080/"
        },
        "id": "Ir1_TTGzC4PB",
        "outputId": "6e0eb358-281f-4819-911e-f95a50ffb5e2"
      },
      "outputs": [
        {
          "data": {
            "text/plain": [
              "1    17999\n",
              "0    17999\n",
              "2    17999\n",
              "Name: Sentiment, dtype: int64"
            ]
          },
          "execution_count": 29,
          "metadata": {},
          "output_type": "execute_result"
        }
      ],
      "source": [
        "# note that the three classes are unbalanced, so we will apply an oversampling technique to avoid bias\n",
        "ros = RandomOverSampler()\n",
        "train_x, train_y = ros.fit_resample(np.array(df['text_clean']).reshape(-1, 1), np.array(df['Sentiment']).reshape(-1, 1))\n",
        "train_os = pd.DataFrame(list(zip([x[0] for x in train_x], train_y)), columns = ['text_clean', 'Sentiment'])\n",
        "train_os['Sentiment'].value_counts()"
      ]
    },
    {
      "cell_type": "code",
      "execution_count": 30,
      "metadata": {
        "id": "7jxJz1y4DUpQ"
      },
      "outputs": [],
      "source": [
        "# now we can separate the training set into two new sets for training (90%) and validation (10%)\n",
        "\n",
        "X = train_os['text_clean'].values\n",
        "y = train_os['Sentiment'].values\n",
        "\n",
        "X_train, X_valid, y_train, y_valid = train_test_split(X, y, test_size=0.1, stratify=y, random_state=seed)"
      ]
    },
    {
      "cell_type": "code",
      "execution_count": 31,
      "metadata": {
        "id": "YsZrw4xQDlxg"
      },
      "outputs": [],
      "source": [
        "X_test = df_test['text_clean'].values\n",
        "y_test = df_test['Sentiment'].values"
      ]
    },
    {
      "cell_type": "markdown",
      "metadata": {},
      "source": [
        "In this type of problem, it is common that the binarization of the classes of the response variable improves the performance of the models."
      ]
    },
    {
      "cell_type": "code",
      "execution_count": 32,
      "metadata": {
        "colab": {
          "base_uri": "https://localhost:8080/"
        },
        "id": "Gb3J2hVXDl_R",
        "outputId": "43717c81-0a52-412b-a294-cb6c4bf87eee"
      },
      "outputs": [
        {
          "name": "stdout",
          "output_type": "stream",
          "text": [
            "TRAINING DATA: 48597\n",
            "VALIDATION DATA: 5400\n",
            "TESTING DATA: 3787\n"
          ]
        }
      ],
      "source": [
        "# cópias com a variável resposta codificada em números \n",
        "y_train_le = y_train.copy()\n",
        "y_valid_le = y_valid.copy()\n",
        "y_test_le = y_test.copy()\n",
        "\n",
        "# binarização\n",
        "ohe = preprocessing.OneHotEncoder()\n",
        "y_train = ohe.fit_transform(np.array(y_train).reshape(-1, 1)).toarray()\n",
        "y_valid = ohe.fit_transform(np.array(y_valid).reshape(-1, 1)).toarray()\n",
        "y_test = ohe.fit_transform(np.array(y_test).reshape(-1, 1)).toarray()\n",
        "\n",
        "print(f\"TRAINING DATA: {X_train.shape[0]}\\nVALIDATION DATA: {X_valid.shape[0]}\\nTESTING DATA: {X_test.shape[0]}\" )"
      ]
    },
    {
      "cell_type": "markdown",
      "metadata": {
        "id": "q6EMKqzJEjwD"
      },
      "source": [
        "## Modeling"
      ]
    },
    {
      "cell_type": "markdown",
      "metadata": {
        "id": "qfBHUx2KEnEz"
      },
      "source": [
        "### Base Model: Naive Bayes Classifier"
      ]
    },
    {
      "cell_type": "code",
      "execution_count": 33,
      "metadata": {
        "id": "diepjtW_Ei7l"
      },
      "outputs": [],
      "source": [
        "# Let's define a base model to use as a reference for more complex models.\n",
        "# First we will create a new feature applying the TF-IDF technique of tokenized tweets\n",
        "clf = CountVectorizer()\n",
        "X_train_cv =  clf.fit_transform(X_train)\n",
        "X_test_cv = clf.transform(X_test)\n",
        "\n",
        "tf_transformer = TfidfTransformer(use_idf=True).fit(X_train_cv)\n",
        "X_train_tf = tf_transformer.transform(X_train_cv)\n",
        "X_test_tf = tf_transformer.transform(X_test_cv)"
      ]
    },
    {
      "cell_type": "code",
      "execution_count": 34,
      "metadata": {
        "colab": {
          "base_uri": "https://localhost:8080/"
        },
        "id": "wV2L-cltEgq9",
        "outputId": "bddd238d-5b9a-4d55-8b36-f0a0786168ca"
      },
      "outputs": [
        {
          "name": "stdout",
          "output_type": "stream",
          "text": [
            "\tRelatório de classificação para o modelo Naive Bayes:\n",
            "\n",
            "               precision    recall  f1-score   support\n",
            "\n",
            "    Negative       0.71      0.78      0.74      1629\n",
            "     Neutral       0.59      0.44      0.50       614\n",
            "    Positive       0.74      0.73      0.73      1544\n",
            "\n",
            "    accuracy                           0.70      3787\n",
            "   macro avg       0.68      0.65      0.66      3787\n",
            "weighted avg       0.70      0.70      0.70      3787\n",
            "\n"
          ]
        }
      ],
      "source": [
        "# Defines the Naive Bayes classifier. Then perform the training, make predictions of the validation subset and visualize the results\n",
        "nb_clf = MultinomialNB()\n",
        "nb_clf.fit(X_train_tf, y_train_le)\n",
        "nb_pred = nb_clf.predict(X_test_tf)\n",
        "\n",
        "print('\\tRelatório de classificação para o modelo Naive Bayes:\\n\\n', classification_report(y_test_le,nb_pred, target_names=['Negative', 'Neutral', 'Positive']))"
      ]
    },
    {
      "cell_type": "markdown",
      "metadata": {
        "id": "dYxhgHyjI6v5"
      },
      "source": [
        "The performance of the base model is not bad. The F1-score is above 70% for the majority classes ('Positive' and 'Negative'), but only reaches 50% for the 'Neutral' class.\n",
        "The overall accuracy is 70%, considered a satisfactory result."
      ]
    },
    {
      "cell_type": "markdown",
      "metadata": {
        "id": "EOOntokiJh91"
      },
      "source": [
        "### BERT Transformer Network"
      ]
    },
    {
      "cell_type": "markdown",
      "metadata": {
        "id": "I0J6xKt5J003"
      },
      "source": [
        "![image.png](data:image/png;base64,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)"
      ]
    },
    {
      "cell_type": "code",
      "execution_count": 35,
      "metadata": {
        "id": "PVGTA_TCJfMN"
      },
      "outputs": [],
      "source": [
        "MAX_LEN = 128"
      ]
    },
    {
      "cell_type": "code",
      "execution_count": 36,
      "metadata": {
        "id": "jHsDVgHQI29q"
      },
      "outputs": [],
      "source": [
        "def tokenize(data,max_len=MAX_LEN) :\n",
        "  input_ids = []\n",
        "  attention_masks = []\n",
        "  for i in range(len(data)):\n",
        "      encoded = tokenizer.encode_plus(\n",
        "          data[i],\n",
        "          add_special_tokens=True,\n",
        "          max_length=MAX_LEN,\n",
        "          padding='max_length',\n",
        "          return_attention_mask=True\n",
        "      )\n",
        "      input_ids.append(encoded['input_ids'])\n",
        "      attention_masks.append(encoded['attention_mask'])\n",
        "  return np.array(input_ids),np.array(attention_masks)"
      ]
    },
    {
      "cell_type": "code",
      "execution_count": 37,
      "metadata": {
        "id": "-sIdyFM1pCyR"
      },
      "outputs": [],
      "source": [
        "train_input_ids, train_attention_masks = tokenize(X_train, MAX_LEN)\n",
        "val_input_ids, val_attention_masks = tokenize(X_valid, MAX_LEN)\n",
        "test_input_ids, test_attention_masks = tokenize(X_test, MAX_LEN)"
      ]
    },
    {
      "cell_type": "code",
      "execution_count": 38,
      "metadata": {
        "colab": {
          "base_uri": "https://localhost:8080/",
          "height": 156,
          "referenced_widgets": [
            "2f4b08421901431989ecef5a39d12a4c",
            "59da6df941d649b1bcf1422df3368b66",
            "1f4f61614b9a49ceab6f20015c6b1a80",
            "3e224f1344554f4aab4172a6c55c04ed",
            "8c366c7eb5044fd786e3fb3f5c5967d7",
            "da296c0a55764f1a99692ccd63691a4f",
            "d769110e31db4b8e9636d43f49888db0",
            "dc06e9e778af49dcb5bfd325a1e5f873",
            "ef2d0e27c8cf442886030e881b2f1a7a",
            "8e05725af05a4c2991740ed8a17ad94c",
            "bbf38c40248d4c7db0cce4308dc8158a"
          ]
        },
        "id": "0tkugtzsp0wB",
        "outputId": "7c496b85-822c-4c51-835f-74bbfb190989"
      },
      "outputs": [
        {
          "data": {
            "application/vnd.jupyter.widget-view+json": {
              "model_id": "2f4b08421901431989ecef5a39d12a4c",
              "version_major": 2,
              "version_minor": 0
            },
            "text/plain": [
              "Downloading:   0%|          | 0.00/511M [00:00<?, ?B/s]"
            ]
          },
          "metadata": {},
          "output_type": "display_data"
        },
        {
          "name": "stderr",
          "output_type": "stream",
          "text": [
            "Some layers from the model checkpoint at bert-base-uncased were not used when initializing TFBertModel: ['mlm___cls', 'nsp___cls']\n",
            "- This IS expected if you are initializing TFBertModel from the checkpoint of a model trained on another task or with another architecture (e.g. initializing a BertForSequenceClassification model from a BertForPreTraining model).\n",
            "- This IS NOT expected if you are initializing TFBertModel from the checkpoint of a model that you expect to be exactly identical (initializing a BertForSequenceClassification model from a BertForSequenceClassification model).\n",
            "All the layers of TFBertModel were initialized from the model checkpoint at bert-base-uncased.\n",
            "If your task is similar to the task the model of the checkpoint was trained on, you can already use TFBertModel for predictions without further training.\n"
          ]
        }
      ],
      "source": [
        "# let's import a pre-trained model\n",
        "bert_model = TFBertModel.from_pretrained('bert-base-uncased')"
      ]
    },
    {
      "cell_type": "code",
      "execution_count": 39,
      "metadata": {
        "id": "Sp0p8OnQqGQy"
      },
      "outputs": [],
      "source": [
        "# Then define a function to add an output layer with three neurons (one for each classification)\n",
        "\n",
        "def create_model(bert_model, max_len=MAX_LEN):\n",
        "  '''parameters:\n",
        "  opt: optimizer\n",
        "  loss: loss function\n",
        "  accuracy: training metric\n",
        "  '''\n",
        "\n",
        "  opt = tf.keras.optimizers.Adam(learning_rate=1e-5, decay=1e-7)\n",
        "  loss = tf.keras.losses.CategoricalCrossentropy()\n",
        "  accuracy = tf.keras.metrics.CategoricalAccuracy()\n",
        "\n",
        "  input_ids = tf.keras.Input(shape=(max_len,), dtype='int32')\n",
        "  attention_masks = tf.keras.Input(shape=(max_len,), dtype='int32')\n",
        "  embeddings = bert_model([input_ids, attention_masks])[1]\n",
        "  output = tf.keras.layers.Dense(3, activation=\"softmax\")(embeddings)\n",
        "  model = tf.keras.models.Model(inputs = [input_ids, attention_masks], outputs = output)\n",
        "  model.compile(opt, loss=loss, metrics=accuracy)\n",
        "\n",
        "  return model"
      ]
    },
    {
      "cell_type": "code",
      "execution_count": 40,
      "metadata": {
        "colab": {
          "base_uri": "https://localhost:8080/"
        },
        "id": "BjGcX2J7rL3s",
        "outputId": "5892b4bf-d643-4320-f1c4-7cbeeb9b481a"
      },
      "outputs": [
        {
          "name": "stdout",
          "output_type": "stream",
          "text": [
            "Model: \"model\"\n",
            "__________________________________________________________________________________________________\n",
            " Layer (type)                   Output Shape         Param #     Connected to                     \n",
            "==================================================================================================\n",
            " input_1 (InputLayer)           [(None, 128)]        0           []                               \n",
            "                                                                                                  \n",
            " input_2 (InputLayer)           [(None, 128)]        0           []                               \n",
            "                                                                                                  \n",
            " tf_bert_model (TFBertModel)    TFBaseModelOutputWi  109482240   ['input_1[0][0]',                \n",
            "                                thPoolingAndCrossAt               'input_2[0][0]']                \n",
            "                                tentions(last_hidde                                               \n",
            "                                n_state=(None, 128,                                               \n",
            "                                 768),                                                            \n",
            "                                 pooler_output=(Non                                               \n",
            "                                e, 768),                                                          \n",
            "                                 past_key_values=No                                               \n",
            "                                ne, hidden_states=N                                               \n",
            "                                one, attentions=Non                                               \n",
            "                                e, cross_attentions                                               \n",
            "                                =None)                                                            \n",
            "                                                                                                  \n",
            " dense (Dense)                  (None, 3)            2307        ['tf_bert_model[0][1]']          \n",
            "                                                                                                  \n",
            "==================================================================================================\n",
            "Total params: 109,484,547\n",
            "Trainable params: 109,484,547\n",
            "Non-trainable params: 0\n",
            "__________________________________________________________________________________________________\n"
          ]
        }
      ],
      "source": [
        "# instantiates the model and displays the network summary\n",
        "model = create_model(bert_model, MAX_LEN)\n",
        "model.summary()"
      ]
    },
    {
      "cell_type": "code",
      "execution_count": 41,
      "metadata": {
        "colab": {
          "base_uri": "https://localhost:8080/"
        },
        "id": "NjTpimLLrU3A",
        "outputId": "23d04a79-205a-4b0f-d525-a24d765c5040"
      },
      "outputs": [
        {
          "name": "stdout",
          "output_type": "stream",
          "text": [
            "Epoch 1/4\n",
            "1519/1519 [==============================] - 774s 500ms/step - loss: 0.5613 - categorical_accuracy: 0.7737 - val_loss: 0.3810 - val_categorical_accuracy: 0.8693\n",
            "Epoch 2/4\n",
            "1519/1519 [==============================] - 756s 498ms/step - loss: 0.2967 - categorical_accuracy: 0.8928 - val_loss: 0.2617 - val_categorical_accuracy: 0.9091\n",
            "Epoch 3/4\n",
            "1519/1519 [==============================] - 755s 497ms/step - loss: 0.1987 - categorical_accuracy: 0.9294 - val_loss: 0.2342 - val_categorical_accuracy: 0.9217\n",
            "Epoch 4/4\n",
            "1519/1519 [==============================] - 755s 497ms/step - loss: 0.1393 - categorical_accuracy: 0.9521 - val_loss: 0.2698 - val_categorical_accuracy: 0.9187\n"
          ]
        }
      ],
      "source": [
        "# training\n",
        "\n",
        "history_bert = model.fit([train_input_ids, train_attention_masks], y_train,\n",
        "                         validation_data=([val_input_ids, val_attention_masks], y_valid), epochs=4, batch_size=32)"
      ]
    },
    {
      "cell_type": "code",
      "execution_count": 44,
      "metadata": {
        "colab": {
          "base_uri": "https://localhost:8080/"
        },
        "id": "zjrMU3Qt6Vn5",
        "outputId": "f7ad18da-7488-4406-b565-e16a06e2661b"
      },
      "outputs": [
        {
          "name": "stdout",
          "output_type": "stream",
          "text": [
            "169/169 - 28s - loss: 0.2698 - categorical_accuracy: 0.9187 - 28s/epoch - 167ms/step\n",
            "\n",
            "Test accuracy: 0.9187036752700806\n"
          ]
        }
      ],
      "source": [
        "test_loss, test_acc = model.evaluate([val_input_ids, val_attention_masks],  y_valid, verbose=2)\n",
        "print('\\nTest accuracy:', test_acc)"
      ]
    },
    {
      "cell_type": "markdown",
      "metadata": {
        "id": "s9gwnXJX5oYb"
      },
      "source": [
        "The training was performed using Google Colab IDE with GPU allocation. Each training epoch took about 13 minutes to run reaching about 91.87% accuracy."
      ]
    },
    {
      "cell_type": "code",
      "execution_count": 42,
      "metadata": {
        "colab": {
          "base_uri": "https://localhost:8080/",
          "height": 369
        },
        "id": "SYVS3xTsrgJ7",
        "outputId": "0c94d102-6776-4c05-bf22-403739f2b807"
      },
      "outputs": [
        {
          "data": {
            "image/png": "[encoded data removed]",
            "text/plain": [
              "<Figure size 360x360 with 1 Axes>"
            ]
          },
          "metadata": {},
          "output_type": "display_data"
        }
      ],
      "source": [
        "# previsions with BERT\n",
        "result_bert = model.predict([test_input_ids,test_attention_masks])\n",
        "\n",
        "y_pred_bert =  np.zeros_like(result_bert)\n",
        "y_pred_bert[np.arange(len(y_pred_bert)), result_bert.argmax(1)] = 1\n",
        "\n",
        "conf_matrix(y_test.argmax(1), y_pred_bert.argmax(1),'Análise de Sentimento com BERT\\nMatrix de Confusão')"
      ]
    },
    {
      "cell_type": "code",
      "execution_count": 45,
      "metadata": {
        "colab": {
          "base_uri": "https://localhost:8080/"
        },
        "id": "hewZYRfCwczA",
        "outputId": "0717da19-a2e1-4f38-9839-5641666bf2bf"
      },
      "outputs": [
        {
          "name": "stdout",
          "output_type": "stream",
          "text": [
            "\tRelatório de classificação para o modelo BERT:\n",
            "\n",
            "               precision    recall  f1-score   support\n",
            "\n",
            "    Negative       0.85      0.94      0.89      1629\n",
            "     Neutral       0.81      0.82      0.81       614\n",
            "    Positive       0.95      0.83      0.89      1544\n",
            "\n",
            "   micro avg       0.88      0.88      0.88      3787\n",
            "   macro avg       0.87      0.86      0.86      3787\n",
            "weighted avg       0.88      0.88      0.88      3787\n",
            " samples avg       0.88      0.88      0.88      3787\n",
            "\n"
          ]
        }
      ],
      "source": [
        "print('\\tRelatório de classificação para o modelo BERT:\\n\\n', classification_report(y_test,y_pred_bert, target_names=['Negative', 'Neutral', 'Positive']))"
      ]
    },
    {
      "cell_type": "markdown",
      "metadata": {
        "id": "TeKXMUBq670v"
      },
      "source": [
        "The performance report above demonstrates that the f1-score of each class was fairly balanced and above 80% for all classes. This implies that the model developed is capable of classifying tweets of all classes very well.\n",
        "The overall accuracy was 88%, well above the result of the base model."
      ]
    },
    {
      "cell_type": "markdown",
      "metadata": {
        "id": "3HbNasyA7c85"
      },
      "source": [
        "## Conclusion\n",
        "\n",
        "In this notebook we developed a sentiment analysis for tweets about Coronavirus using NLP techniques and we developed a model that uses a pre-trained and adapted BERT neural network to classify the sentiments of tweets. This model presented very satisfactory performance, with an accuracy of 88%."
      ]
    }
  ],
  "metadata": {
    "accelerator": "GPU",
    "colab": {
      "collapsed_sections": [],
      "machine_shape": "hm",
      "name": "Sentiment Analysis with NLP for Coronavirus Tweets.ipynb",
      "provenance": []
    },
    "gpuClass": "standard",
    "kernelspec": {
      "display_name": "Python 3.8.8 ('base')",
      "language": "python",
      "name": "python3"
    },
    "language_info": {
      "codemirror_mode": {
        "name": "ipython",
        "version": 3
      },
      "file_extension": ".py",
      "mimetype": "text/x-python",
      "name": "python",
      "nbconvert_exporter": "python",
      "pygments_lexer": "ipython3",
      "version": "3.8.8"
    },
    "vscode": {
      "interpreter": {
        "hash": "b0205c421c64af847616f20a9a1a22b234a490e1b79ee204d590d785bf2a1b75"
      }
    },
    "widgets": {
      "application/vnd.jupyter.widget-state+json": {
        "0b3d6cebc67b4b9e8474d0c746dfa6a7": {
          "model_module": "@jupyter-widgets/controls",
          "model_module_version": "1.5.0",
          "model_name": "HTMLModel",
          "state": {
            "_dom_classes": [],
            "_model_module": "@jupyter-widgets/controls",
            "_model_module_version": "1.5.0",
            "_model_name": "HTMLModel",
            "_view_count": null,
            "_view_module": "@jupyter-widgets/controls",
            "_view_module_version": "1.5.0",
            "_view_name": "HTMLView",
            "description": "",
            "description_tooltip": null,
            "layout": "IPY_MODEL_7c2951499f014f0796a78c7fceb7dc0d",
            "placeholder": "​",
            "style": "IPY_MODEL_672b3a69028c49fe8c83adca1dae1bdc",
            "value": "Downloading: 100%"
          }
        },
        "0c7cd163a24c4f73a18b2b8340c47551": {
          "model_module": "@jupyter-widgets/controls",
          "model_module_version": "1.5.0",
          "model_name": "ProgressStyleModel",
          "state": {
            "_model_module": "@jupyter-widgets/controls",
            "_model_module_version": "1.5.0",
            "_model_name": "ProgressStyleModel",
            "_view_count": null,
            "_view_module": "@jupyter-widgets/base",
            "_view_module_version": "1.2.0",
            "_view_name": "StyleView",
            "bar_color": null,
            "description_width": ""
          }
        },
        "18acf27a436c4f0a92ff6d05698b3525": {
          "model_module": "@jupyter-widgets/base",
          "model_module_version": "1.2.0",
          "model_name": "LayoutModel",
          "state": {
            "_model_module": "@jupyter-widgets/base",
            "_model_module_version": "1.2.0",
            "_model_name": "LayoutModel",
            "_view_count": null,
            "_view_module": "@jupyter-widgets/base",
            "_view_module_version": "1.2.0",
            "_view_name": "LayoutView",
            "align_content": null,
            "align_items": null,
            "align_self": null,
            "border": null,
            "bottom": null,
            "display": null,
            "flex": null,
            "flex_flow": null,
            "grid_area": null,
            "grid_auto_columns": null,
            "grid_auto_flow": null,
            "grid_auto_rows": null,
            "grid_column": null,
            "grid_gap": null,
            "grid_row": null,
            "grid_template_areas": null,
            "grid_template_columns": null,
            "grid_template_rows": null,
            "height": null,
            "justify_content": null,
            "justify_items": null,
            "left": null,
            "margin": null,
            "max_height": null,
            "max_width": null,
            "min_height": null,
            "min_width": null,
            "object_fit": null,
            "object_position": null,
            "order": null,
            "overflow": null,
            "overflow_x": null,
            "overflow_y": null,
            "padding": null,
            "right": null,
            "top": null,
            "visibility": null,
            "width": null
          }
        },
        "1b72da07fb71457791239e7e4f8ede28": {
          "model_module": "@jupyter-widgets/controls",
          "model_module_version": "1.5.0",
          "model_name": "DescriptionStyleModel",
          "state": {
            "_model_module": "@jupyter-widgets/controls",
            "_model_module_version": "1.5.0",
            "_model_name": "DescriptionStyleModel",
            "_view_count": null,
            "_view_module": "@jupyter-widgets/base",
            "_view_module_version": "1.2.0",
            "_view_name": "StyleView",
            "description_width": ""
          }
        },
        "1d03363f912f4e68b6c014b40fc00077": {
          "model_module": "@jupyter-widgets/controls",
          "model_module_version": "1.5.0",
          "model_name": "ProgressStyleModel",
          "state": {
            "_model_module": "@jupyter-widgets/controls",
            "_model_module_version": "1.5.0",
            "_model_name": "ProgressStyleModel",
            "_view_count": null,
            "_view_module": "@jupyter-widgets/base",
            "_view_module_version": "1.2.0",
            "_view_name": "StyleView",
            "bar_color": null,
            "description_width": ""
          }
        },
        "1f4f61614b9a49ceab6f20015c6b1a80": {
          "model_module": "@jupyter-widgets/controls",
          "model_module_version": "1.5.0",
          "model_name": "FloatProgressModel",
          "state": {
            "_dom_classes": [],
            "_model_module": "@jupyter-widgets/controls",
            "_model_module_version": "1.5.0",
            "_model_name": "FloatProgressModel",
            "_view_count": null,
            "_view_module": "@jupyter-widgets/controls",
            "_view_module_version": "1.5.0",
            "_view_name": "ProgressView",
            "bar_style": "success",
            "description": "",
            "description_tooltip": null,
            "layout": "IPY_MODEL_dc06e9e778af49dcb5bfd325a1e5f873",
            "max": 536063208,
            "min": 0,
            "orientation": "horizontal",
            "style": "IPY_MODEL_ef2d0e27c8cf442886030e881b2f1a7a",
            "value": 536063208
          }
        },
        "208c853fb82b49e88faa126b2b0bdc14": {
          "model_module": "@jupyter-widgets/base",
          "model_module_version": "1.2.0",
          "model_name": "LayoutModel",
          "state": {
            "_model_module": "@jupyter-widgets/base",
            "_model_module_version": "1.2.0",
            "_model_name": "LayoutModel",
            "_view_count": null,
            "_view_module": "@jupyter-widgets/base",
            "_view_module_version": "1.2.0",
            "_view_name": "LayoutView",
            "align_content": null,
            "align_items": null,
            "align_self": null,
            "border": null,
            "bottom": null,
            "display": null,
            "flex": null,
            "flex_flow": null,
            "grid_area": null,
            "grid_auto_columns": null,
            "grid_auto_flow": null,
            "grid_auto_rows": null,
            "grid_column": null,
            "grid_gap": null,
            "grid_row": null,
            "grid_template_areas": null,
            "grid_template_columns": null,
            "grid_template_rows": null,
            "height": null,
            "justify_content": null,
            "justify_items": null,
            "left": null,
            "margin": null,
            "max_height": null,
            "max_width": null,
            "min_height": null,
            "min_width": null,
            "object_fit": null,
            "object_position": null,
            "order": null,
            "overflow": null,
            "overflow_x": null,
            "overflow_y": null,
            "padding": null,
            "right": null,
            "top": null,
            "visibility": null,
            "width": null
          }
        },
        "232282ff5e8f4334a6e724c68eb6d673": {
          "model_module": "@jupyter-widgets/base",
          "model_module_version": "1.2.0",
          "model_name": "LayoutModel",
          "state": {
            "_model_module": "@jupyter-widgets/base",
            "_model_module_version": "1.2.0",
            "_model_name": "LayoutModel",
            "_view_count": null,
            "_view_module": "@jupyter-widgets/base",
            "_view_module_version": "1.2.0",
            "_view_name": "LayoutView",
            "align_content": null,
            "align_items": null,
            "align_self": null,
            "border": null,
            "bottom": null,
            "display": null,
            "flex": null,
            "flex_flow": null,
            "grid_area": null,
            "grid_auto_columns": null,
            "grid_auto_flow": null,
            "grid_auto_rows": null,
            "grid_column": null,
            "grid_gap": null,
            "grid_row": null,
            "grid_template_areas": null,
            "grid_template_columns": null,
            "grid_template_rows": null,
            "height": null,
            "justify_content": null,
            "justify_items": null,
            "left": null,
            "margin": null,
            "max_height": null,
            "max_width": null,
            "min_height": null,
            "min_width": null,
            "object_fit": null,
            "object_position": null,
            "order": null,
            "overflow": null,
            "overflow_x": null,
            "overflow_y": null,
            "padding": null,
            "right": null,
            "top": null,
            "visibility": null,
            "width": null
          }
        },
        "27915ef21024437a91a7a1aed697e0a3": {
          "model_module": "@jupyter-widgets/controls",
          "model_module_version": "1.5.0",
          "model_name": "HBoxModel",
          "state": {
            "_dom_classes": [],
            "_model_module": "@jupyter-widgets/controls",
            "_model_module_version": "1.5.0",
            "_model_name": "HBoxModel",
            "_view_count": null,
            "_view_module": "@jupyter-widgets/controls",
            "_view_module_version": "1.5.0",
            "_view_name": "HBoxView",
            "box_style": "",
            "children": [
              "IPY_MODEL_3c83ca72039b4eb9b019b8311a504b4f",
              "IPY_MODEL_cfdf01ed72434dd8a4880f66d1d707d3",
              "IPY_MODEL_b008ea843c354580aab2ded93998a5be"
            ],
            "layout": "IPY_MODEL_61bd831248c948e38123a1def68b7df9"
          }
        },
        "27d4d39e89a14ab1abe012d0778af8f7": {
          "model_module": "@jupyter-widgets/controls",
          "model_module_version": "1.5.0",
          "model_name": "DescriptionStyleModel",
          "state": {
            "_model_module": "@jupyter-widgets/controls",
            "_model_module_version": "1.5.0",
            "_model_name": "DescriptionStyleModel",
            "_view_count": null,
            "_view_module": "@jupyter-widgets/base",
            "_view_module_version": "1.2.0",
            "_view_name": "StyleView",
            "description_width": ""
          }
        },
        "2cc06bddcc484905a705df3146812320": {
          "model_module": "@jupyter-widgets/controls",
          "model_module_version": "1.5.0",
          "model_name": "HTMLModel",
          "state": {
            "_dom_classes": [],
            "_model_module": "@jupyter-widgets/controls",
            "_model_module_version": "1.5.0",
            "_model_name": "HTMLModel",
            "_view_count": null,
            "_view_module": "@jupyter-widgets/controls",
            "_view_module_version": "1.5.0",
            "_view_name": "HTMLView",
            "description": "",
            "description_tooltip": null,
            "layout": "IPY_MODEL_809aaa3677c048aea0ca9e1ff986cba2",
            "placeholder": "​",
            "style": "IPY_MODEL_b62d37cf2d784ea1826bca83a49f7e74",
            "value": " 455k/455k [00:00&lt;00:00, 595kB/s]"
          }
        },
        "2f4b08421901431989ecef5a39d12a4c": {
          "model_module": "@jupyter-widgets/controls",
          "model_module_version": "1.5.0",
          "model_name": "HBoxModel",
          "state": {
            "_dom_classes": [],
            "_model_module": "@jupyter-widgets/controls",
            "_model_module_version": "1.5.0",
            "_model_name": "HBoxModel",
            "_view_count": null,
            "_view_module": "@jupyter-widgets/controls",
            "_view_module_version": "1.5.0",
            "_view_name": "HBoxView",
            "box_style": "",
            "children": [
              "IPY_MODEL_59da6df941d649b1bcf1422df3368b66",
              "IPY_MODEL_1f4f61614b9a49ceab6f20015c6b1a80",
              "IPY_MODEL_3e224f1344554f4aab4172a6c55c04ed"
            ],
            "layout": "IPY_MODEL_8c366c7eb5044fd786e3fb3f5c5967d7"
          }
        },
        "331a7eae59cf4a1e8333e0fd41501881": {
          "model_module": "@jupyter-widgets/base",
          "model_module_version": "1.2.0",
          "model_name": "LayoutModel",
          "state": {
            "_model_module": "@jupyter-widgets/base",
            "_model_module_version": "1.2.0",
            "_model_name": "LayoutModel",
            "_view_count": null,
            "_view_module": "@jupyter-widgets/base",
            "_view_module_version": "1.2.0",
            "_view_name": "LayoutView",
            "align_content": null,
            "align_items": null,
            "align_self": null,
            "border": null,
            "bottom": null,
            "display": null,
            "flex": null,
            "flex_flow": null,
            "grid_area": null,
            "grid_auto_columns": null,
            "grid_auto_flow": null,
            "grid_auto_rows": null,
            "grid_column": null,
            "grid_gap": null,
            "grid_row": null,
            "grid_template_areas": null,
            "grid_template_columns": null,
            "grid_template_rows": null,
            "height": null,
            "justify_content": null,
            "justify_items": null,
            "left": null,
            "margin": null,
            "max_height": null,
            "max_width": null,
            "min_height": null,
            "min_width": null,
            "object_fit": null,
            "object_position": null,
            "order": null,
            "overflow": null,
            "overflow_x": null,
            "overflow_y": null,
            "padding": null,
            "right": null,
            "top": null,
            "visibility": null,
            "width": null
          }
        },
        "33775ff2a7c047d881bd0d89b34336cf": {
          "model_module": "@jupyter-widgets/controls",
          "model_module_version": "1.5.0",
          "model_name": "ProgressStyleModel",
          "state": {
            "_model_module": "@jupyter-widgets/controls",
            "_model_module_version": "1.5.0",
            "_model_name": "ProgressStyleModel",
            "_view_count": null,
            "_view_module": "@jupyter-widgets/base",
            "_view_module_version": "1.2.0",
            "_view_name": "StyleView",
            "bar_color": null,
            "description_width": ""
          }
        },
        "3a88d17d92ed4547be50cad1aa73bb3d": {
          "model_module": "@jupyter-widgets/controls",
          "model_module_version": "1.5.0",
          "model_name": "FloatProgressModel",
          "state": {
            "_dom_classes": [],
            "_model_module": "@jupyter-widgets/controls",
            "_model_module_version": "1.5.0",
            "_model_name": "FloatProgressModel",
            "_view_count": null,
            "_view_module": "@jupyter-widgets/controls",
            "_view_module_version": "1.5.0",
            "_view_name": "ProgressView",
            "bar_style": "success",
            "description": "",
            "description_tooltip": null,
            "layout": "IPY_MODEL_d20ffa153e904983aca4be5964c8d68b",
            "max": 231508,
            "min": 0,
            "orientation": "horizontal",
            "style": "IPY_MODEL_1d03363f912f4e68b6c014b40fc00077",
            "value": 231508
          }
        },
        "3c83ca72039b4eb9b019b8311a504b4f": {
          "model_module": "@jupyter-widgets/controls",
          "model_module_version": "1.5.0",
          "model_name": "HTMLModel",
          "state": {
            "_dom_classes": [],
            "_model_module": "@jupyter-widgets/controls",
            "_model_module_version": "1.5.0",
            "_model_name": "HTMLModel",
            "_view_count": null,
            "_view_module": "@jupyter-widgets/controls",
            "_view_module_version": "1.5.0",
            "_view_name": "HTMLView",
            "description": "",
            "description_tooltip": null,
            "layout": "IPY_MODEL_99b00fa24c604920b96e2bedeaa1c7b6",
            "placeholder": "​",
            "style": "IPY_MODEL_27d4d39e89a14ab1abe012d0778af8f7",
            "value": "Downloading: 100%"
          }
        },
        "3e224f1344554f4aab4172a6c55c04ed": {
          "model_module": "@jupyter-widgets/controls",
          "model_module_version": "1.5.0",
          "model_name": "HTMLModel",
          "state": {
            "_dom_classes": [],
            "_model_module": "@jupyter-widgets/controls",
            "_model_module_version": "1.5.0",
            "_model_name": "HTMLModel",
            "_view_count": null,
            "_view_module": "@jupyter-widgets/controls",
            "_view_module_version": "1.5.0",
            "_view_name": "HTMLView",
            "description": "",
            "description_tooltip": null,
            "layout": "IPY_MODEL_8e05725af05a4c2991740ed8a17ad94c",
            "placeholder": "​",
            "style": "IPY_MODEL_bbf38c40248d4c7db0cce4308dc8158a",
            "value": " 511M/511M [00:12&lt;00:00, 50.0MB/s]"
          }
        },
        "4511359951dc44698d4ea51ac8bdbc00": {
          "model_module": "@jupyter-widgets/controls",
          "model_module_version": "1.5.0",
          "model_name": "HTMLModel",
          "state": {
            "_dom_classes": [],
            "_model_module": "@jupyter-widgets/controls",
            "_model_module_version": "1.5.0",
            "_model_name": "HTMLModel",
            "_view_count": null,
            "_view_module": "@jupyter-widgets/controls",
            "_view_module_version": "1.5.0",
            "_view_name": "HTMLView",
            "description": "",
            "description_tooltip": null,
            "layout": "IPY_MODEL_232282ff5e8f4334a6e724c68eb6d673",
            "placeholder": "​",
            "style": "IPY_MODEL_687cdec908594f278069c024f80ab8f9",
            "value": " 570/570 [00:00&lt;00:00, 15.7kB/s]"
          }
        },
        "49dfc9e788d5487f8983492d8754028c": {
          "model_module": "@jupyter-widgets/base",
          "model_module_version": "1.2.0",
          "model_name": "LayoutModel",
          "state": {
            "_model_module": "@jupyter-widgets/base",
            "_model_module_version": "1.2.0",
            "_model_name": "LayoutModel",
            "_view_count": null,
            "_view_module": "@jupyter-widgets/base",
            "_view_module_version": "1.2.0",
            "_view_name": "LayoutView",
            "align_content": null,
            "align_items": null,
            "align_self": null,
            "border": null,
            "bottom": null,
            "display": null,
            "flex": null,
            "flex_flow": null,
            "grid_area": null,
            "grid_auto_columns": null,
            "grid_auto_flow": null,
            "grid_auto_rows": null,
            "grid_column": null,
            "grid_gap": null,
            "grid_row": null,
            "grid_template_areas": null,
            "grid_template_columns": null,
            "grid_template_rows": null,
            "height": null,
            "justify_content": null,
            "justify_items": null,
            "left": null,
            "margin": null,
            "max_height": null,
            "max_width": null,
            "min_height": null,
            "min_width": null,
            "object_fit": null,
            "object_position": null,
            "order": null,
            "overflow": null,
            "overflow_x": null,
            "overflow_y": null,
            "padding": null,
            "right": null,
            "top": null,
            "visibility": null,
            "width": null
          }
        },
        "4ac3b3ee68d94bb08052d197d17a2335": {
          "model_module": "@jupyter-widgets/base",
          "model_module_version": "1.2.0",
          "model_name": "LayoutModel",
          "state": {
            "_model_module": "@jupyter-widgets/base",
            "_model_module_version": "1.2.0",
            "_model_name": "LayoutModel",
            "_view_count": null,
            "_view_module": "@jupyter-widgets/base",
            "_view_module_version": "1.2.0",
            "_view_name": "LayoutView",
            "align_content": null,
            "align_items": null,
            "align_self": null,
            "border": null,
            "bottom": null,
            "display": null,
            "flex": null,
            "flex_flow": null,
            "grid_area": null,
            "grid_auto_columns": null,
            "grid_auto_flow": null,
            "grid_auto_rows": null,
            "grid_column": null,
            "grid_gap": null,
            "grid_row": null,
            "grid_template_areas": null,
            "grid_template_columns": null,
            "grid_template_rows": null,
            "height": null,
            "justify_content": null,
            "justify_items": null,
            "left": null,
            "margin": null,
            "max_height": null,
            "max_width": null,
            "min_height": null,
            "min_width": null,
            "object_fit": null,
            "object_position": null,
            "order": null,
            "overflow": null,
            "overflow_x": null,
            "overflow_y": null,
            "padding": null,
            "right": null,
            "top": null,
            "visibility": null,
            "width": null
          }
        },
        "537116fd269b43f7b86a1c0818f8254b": {
          "model_module": "@jupyter-widgets/controls",
          "model_module_version": "1.5.0",
          "model_name": "HTMLModel",
          "state": {
            "_dom_classes": [],
            "_model_module": "@jupyter-widgets/controls",
            "_model_module_version": "1.5.0",
            "_model_name": "HTMLModel",
            "_view_count": null,
            "_view_module": "@jupyter-widgets/controls",
            "_view_module_version": "1.5.0",
            "_view_name": "HTMLView",
            "description": "",
            "description_tooltip": null,
            "layout": "IPY_MODEL_cab95b7b60284cbea00bc2a01d093224",
            "placeholder": "​",
            "style": "IPY_MODEL_771c9838ed4746ada1654b5757f5872a",
            "value": "Downloading: 100%"
          }
        },
        "591e4903651e44768a056aafe6e4164e": {
          "model_module": "@jupyter-widgets/controls",
          "model_module_version": "1.5.0",
          "model_name": "DescriptionStyleModel",
          "state": {
            "_model_module": "@jupyter-widgets/controls",
            "_model_module_version": "1.5.0",
            "_model_name": "DescriptionStyleModel",
            "_view_count": null,
            "_view_module": "@jupyter-widgets/base",
            "_view_module_version": "1.2.0",
            "_view_name": "StyleView",
            "description_width": ""
          }
        },
        "59da6df941d649b1bcf1422df3368b66": {
          "model_module": "@jupyter-widgets/controls",
          "model_module_version": "1.5.0",
          "model_name": "HTMLModel",
          "state": {
            "_dom_classes": [],
            "_model_module": "@jupyter-widgets/controls",
            "_model_module_version": "1.5.0",
            "_model_name": "HTMLModel",
            "_view_count": null,
            "_view_module": "@jupyter-widgets/controls",
            "_view_module_version": "1.5.0",
            "_view_name": "HTMLView",
            "description": "",
            "description_tooltip": null,
            "layout": "IPY_MODEL_da296c0a55764f1a99692ccd63691a4f",
            "placeholder": "​",
            "style": "IPY_MODEL_d769110e31db4b8e9636d43f49888db0",
            "value": "Downloading: 100%"
          }
        },
        "5eda5cc0ef224d9e96a9f62f109ae70a": {
          "model_module": "@jupyter-widgets/controls",
          "model_module_version": "1.5.0",
          "model_name": "HTMLModel",
          "state": {
            "_dom_classes": [],
            "_model_module": "@jupyter-widgets/controls",
            "_model_module_version": "1.5.0",
            "_model_name": "HTMLModel",
            "_view_count": null,
            "_view_module": "@jupyter-widgets/controls",
            "_view_module_version": "1.5.0",
            "_view_name": "HTMLView",
            "description": "",
            "description_tooltip": null,
            "layout": "IPY_MODEL_77fc343703df4b179c3e8b29d1f5c3c5",
            "placeholder": "​",
            "style": "IPY_MODEL_591e4903651e44768a056aafe6e4164e",
            "value": " 226k/226k [00:00&lt;00:00, 332kB/s]"
          }
        },
        "61bd831248c948e38123a1def68b7df9": {
          "model_module": "@jupyter-widgets/base",
          "model_module_version": "1.2.0",
          "model_name": "LayoutModel",
          "state": {
            "_model_module": "@jupyter-widgets/base",
            "_model_module_version": "1.2.0",
            "_model_name": "LayoutModel",
            "_view_count": null,
            "_view_module": "@jupyter-widgets/base",
            "_view_module_version": "1.2.0",
            "_view_name": "LayoutView",
            "align_content": null,
            "align_items": null,
            "align_self": null,
            "border": null,
            "bottom": null,
            "display": null,
            "flex": null,
            "flex_flow": null,
            "grid_area": null,
            "grid_auto_columns": null,
            "grid_auto_flow": null,
            "grid_auto_rows": null,
            "grid_column": null,
            "grid_gap": null,
            "grid_row": null,
            "grid_template_areas": null,
            "grid_template_columns": null,
            "grid_template_rows": null,
            "height": null,
            "justify_content": null,
            "justify_items": null,
            "left": null,
            "margin": null,
            "max_height": null,
            "max_width": null,
            "min_height": null,
            "min_width": null,
            "object_fit": null,
            "object_position": null,
            "order": null,
            "overflow": null,
            "overflow_x": null,
            "overflow_y": null,
            "padding": null,
            "right": null,
            "top": null,
            "visibility": null,
            "width": null
          }
        },
        "672b3a69028c49fe8c83adca1dae1bdc": {
          "model_module": "@jupyter-widgets/controls",
          "model_module_version": "1.5.0",
          "model_name": "DescriptionStyleModel",
          "state": {
            "_model_module": "@jupyter-widgets/controls",
            "_model_module_version": "1.5.0",
            "_model_name": "DescriptionStyleModel",
            "_view_count": null,
            "_view_module": "@jupyter-widgets/base",
            "_view_module_version": "1.2.0",
            "_view_name": "StyleView",
            "description_width": ""
          }
        },
        "687cdec908594f278069c024f80ab8f9": {
          "model_module": "@jupyter-widgets/controls",
          "model_module_version": "1.5.0",
          "model_name": "DescriptionStyleModel",
          "state": {
            "_model_module": "@jupyter-widgets/controls",
            "_model_module_version": "1.5.0",
            "_model_name": "DescriptionStyleModel",
            "_view_count": null,
            "_view_module": "@jupyter-widgets/base",
            "_view_module_version": "1.2.0",
            "_view_name": "StyleView",
            "description_width": ""
          }
        },
        "771c9838ed4746ada1654b5757f5872a": {
          "model_module": "@jupyter-widgets/controls",
          "model_module_version": "1.5.0",
          "model_name": "DescriptionStyleModel",
          "state": {
            "_model_module": "@jupyter-widgets/controls",
            "_model_module_version": "1.5.0",
            "_model_name": "DescriptionStyleModel",
            "_view_count": null,
            "_view_module": "@jupyter-widgets/base",
            "_view_module_version": "1.2.0",
            "_view_name": "StyleView",
            "description_width": ""
          }
        },
        "77fc343703df4b179c3e8b29d1f5c3c5": {
          "model_module": "@jupyter-widgets/base",
          "model_module_version": "1.2.0",
          "model_name": "LayoutModel",
          "state": {
            "_model_module": "@jupyter-widgets/base",
            "_model_module_version": "1.2.0",
            "_model_name": "LayoutModel",
            "_view_count": null,
            "_view_module": "@jupyter-widgets/base",
            "_view_module_version": "1.2.0",
            "_view_name": "LayoutView",
            "align_content": null,
            "align_items": null,
            "align_self": null,
            "border": null,
            "bottom": null,
            "display": null,
            "flex": null,
            "flex_flow": null,
            "grid_area": null,
            "grid_auto_columns": null,
            "grid_auto_flow": null,
            "grid_auto_rows": null,
            "grid_column": null,
            "grid_gap": null,
            "grid_row": null,
            "grid_template_areas": null,
            "grid_template_columns": null,
            "grid_template_rows": null,
            "height": null,
            "justify_content": null,
            "justify_items": null,
            "left": null,
            "margin": null,
            "max_height": null,
            "max_width": null,
            "min_height": null,
            "min_width": null,
            "object_fit": null,
            "object_position": null,
            "order": null,
            "overflow": null,
            "overflow_x": null,
            "overflow_y": null,
            "padding": null,
            "right": null,
            "top": null,
            "visibility": null,
            "width": null
          }
        },
        "7c2951499f014f0796a78c7fceb7dc0d": {
          "model_module": "@jupyter-widgets/base",
          "model_module_version": "1.2.0",
          "model_name": "LayoutModel",
          "state": {
            "_model_module": "@jupyter-widgets/base",
            "_model_module_version": "1.2.0",
            "_model_name": "LayoutModel",
            "_view_count": null,
            "_view_module": "@jupyter-widgets/base",
            "_view_module_version": "1.2.0",
            "_view_name": "LayoutView",
            "align_content": null,
            "align_items": null,
            "align_self": null,
            "border": null,
            "bottom": null,
            "display": null,
            "flex": null,
            "flex_flow": null,
            "grid_area": null,
            "grid_auto_columns": null,
            "grid_auto_flow": null,
            "grid_auto_rows": null,
            "grid_column": null,
            "grid_gap": null,
            "grid_row": null,
            "grid_template_areas": null,
            "grid_template_columns": null,
            "grid_template_rows": null,
            "height": null,
            "justify_content": null,
            "justify_items": null,
            "left": null,
            "margin": null,
            "max_height": null,
            "max_width": null,
            "min_height": null,
            "min_width": null,
            "object_fit": null,
            "object_position": null,
            "order": null,
            "overflow": null,
            "overflow_x": null,
            "overflow_y": null,
            "padding": null,
            "right": null,
            "top": null,
            "visibility": null,
            "width": null
          }
        },
        "7f1eda3174d1481cb29f5f181746b5c9": {
          "model_module": "@jupyter-widgets/base",
          "model_module_version": "1.2.0",
          "model_name": "LayoutModel",
          "state": {
            "_model_module": "@jupyter-widgets/base",
            "_model_module_version": "1.2.0",
            "_model_name": "LayoutModel",
            "_view_count": null,
            "_view_module": "@jupyter-widgets/base",
            "_view_module_version": "1.2.0",
            "_view_name": "LayoutView",
            "align_content": null,
            "align_items": null,
            "align_self": null,
            "border": null,
            "bottom": null,
            "display": null,
            "flex": null,
            "flex_flow": null,
            "grid_area": null,
            "grid_auto_columns": null,
            "grid_auto_flow": null,
            "grid_auto_rows": null,
            "grid_column": null,
            "grid_gap": null,
            "grid_row": null,
            "grid_template_areas": null,
            "grid_template_columns": null,
            "grid_template_rows": null,
            "height": null,
            "justify_content": null,
            "justify_items": null,
            "left": null,
            "margin": null,
            "max_height": null,
            "max_width": null,
            "min_height": null,
            "min_width": null,
            "object_fit": null,
            "object_position": null,
            "order": null,
            "overflow": null,
            "overflow_x": null,
            "overflow_y": null,
            "padding": null,
            "right": null,
            "top": null,
            "visibility": null,
            "width": null
          }
        },
        "809aaa3677c048aea0ca9e1ff986cba2": {
          "model_module": "@jupyter-widgets/base",
          "model_module_version": "1.2.0",
          "model_name": "LayoutModel",
          "state": {
            "_model_module": "@jupyter-widgets/base",
            "_model_module_version": "1.2.0",
            "_model_name": "LayoutModel",
            "_view_count": null,
            "_view_module": "@jupyter-widgets/base",
            "_view_module_version": "1.2.0",
            "_view_name": "LayoutView",
            "align_content": null,
            "align_items": null,
            "align_self": null,
            "border": null,
            "bottom": null,
            "display": null,
            "flex": null,
            "flex_flow": null,
            "grid_area": null,
            "grid_auto_columns": null,
            "grid_auto_flow": null,
            "grid_auto_rows": null,
            "grid_column": null,
            "grid_gap": null,
            "grid_row": null,
            "grid_template_areas": null,
            "grid_template_columns": null,
            "grid_template_rows": null,
            "height": null,
            "justify_content": null,
            "justify_items": null,
            "left": null,
            "margin": null,
            "max_height": null,
            "max_width": null,
            "min_height": null,
            "min_width": null,
            "object_fit": null,
            "object_position": null,
            "order": null,
            "overflow": null,
            "overflow_x": null,
            "overflow_y": null,
            "padding": null,
            "right": null,
            "top": null,
            "visibility": null,
            "width": null
          }
        },
        "8289ceab280f472a9f151fcc80f0b7f6": {
          "model_module": "@jupyter-widgets/controls",
          "model_module_version": "1.5.0",
          "model_name": "HTMLModel",
          "state": {
            "_dom_classes": [],
            "_model_module": "@jupyter-widgets/controls",
            "_model_module_version": "1.5.0",
            "_model_name": "HTMLModel",
            "_view_count": null,
            "_view_module": "@jupyter-widgets/controls",
            "_view_module_version": "1.5.0",
            "_view_name": "HTMLView",
            "description": "",
            "description_tooltip": null,
            "layout": "IPY_MODEL_cc7607bdcbe14154880116f93199efe6",
            "placeholder": "​",
            "style": "IPY_MODEL_1b72da07fb71457791239e7e4f8ede28",
            "value": "Downloading: 100%"
          }
        },
        "8c366c7eb5044fd786e3fb3f5c5967d7": {
          "model_module": "@jupyter-widgets/base",
          "model_module_version": "1.2.0",
          "model_name": "LayoutModel",
          "state": {
            "_model_module": "@jupyter-widgets/base",
            "_model_module_version": "1.2.0",
            "_model_name": "LayoutModel",
            "_view_count": null,
            "_view_module": "@jupyter-widgets/base",
            "_view_module_version": "1.2.0",
            "_view_name": "LayoutView",
            "align_content": null,
            "align_items": null,
            "align_self": null,
            "border": null,
            "bottom": null,
            "display": null,
            "flex": null,
            "flex_flow": null,
            "grid_area": null,
            "grid_auto_columns": null,
            "grid_auto_flow": null,
            "grid_auto_rows": null,
            "grid_column": null,
            "grid_gap": null,
            "grid_row": null,
            "grid_template_areas": null,
            "grid_template_columns": null,
            "grid_template_rows": null,
            "height": null,
            "justify_content": null,
            "justify_items": null,
            "left": null,
            "margin": null,
            "max_height": null,
            "max_width": null,
            "min_height": null,
            "min_width": null,
            "object_fit": null,
            "object_position": null,
            "order": null,
            "overflow": null,
            "overflow_x": null,
            "overflow_y": null,
            "padding": null,
            "right": null,
            "top": null,
            "visibility": null,
            "width": null
          }
        },
        "8e05725af05a4c2991740ed8a17ad94c": {
          "model_module": "@jupyter-widgets/base",
          "model_module_version": "1.2.0",
          "model_name": "LayoutModel",
          "state": {
            "_model_module": "@jupyter-widgets/base",
            "_model_module_version": "1.2.0",
            "_model_name": "LayoutModel",
            "_view_count": null,
            "_view_module": "@jupyter-widgets/base",
            "_view_module_version": "1.2.0",
            "_view_name": "LayoutView",
            "align_content": null,
            "align_items": null,
            "align_self": null,
            "border": null,
            "bottom": null,
            "display": null,
            "flex": null,
            "flex_flow": null,
            "grid_area": null,
            "grid_auto_columns": null,
            "grid_auto_flow": null,
            "grid_auto_rows": null,
            "grid_column": null,
            "grid_gap": null,
            "grid_row": null,
            "grid_template_areas": null,
            "grid_template_columns": null,
            "grid_template_rows": null,
            "height": null,
            "justify_content": null,
            "justify_items": null,
            "left": null,
            "margin": null,
            "max_height": null,
            "max_width": null,
            "min_height": null,
            "min_width": null,
            "object_fit": null,
            "object_position": null,
            "order": null,
            "overflow": null,
            "overflow_x": null,
            "overflow_y": null,
            "padding": null,
            "right": null,
            "top": null,
            "visibility": null,
            "width": null
          }
        },
        "970603a5e28042cd8019a34ab1c24e36": {
          "model_module": "@jupyter-widgets/base",
          "model_module_version": "1.2.0",
          "model_name": "LayoutModel",
          "state": {
            "_model_module": "@jupyter-widgets/base",
            "_model_module_version": "1.2.0",
            "_model_name": "LayoutModel",
            "_view_count": null,
            "_view_module": "@jupyter-widgets/base",
            "_view_module_version": "1.2.0",
            "_view_name": "LayoutView",
            "align_content": null,
            "align_items": null,
            "align_self": null,
            "border": null,
            "bottom": null,
            "display": null,
            "flex": null,
            "flex_flow": null,
            "grid_area": null,
            "grid_auto_columns": null,
            "grid_auto_flow": null,
            "grid_auto_rows": null,
            "grid_column": null,
            "grid_gap": null,
            "grid_row": null,
            "grid_template_areas": null,
            "grid_template_columns": null,
            "grid_template_rows": null,
            "height": null,
            "justify_content": null,
            "justify_items": null,
            "left": null,
            "margin": null,
            "max_height": null,
            "max_width": null,
            "min_height": null,
            "min_width": null,
            "object_fit": null,
            "object_position": null,
            "order": null,
            "overflow": null,
            "overflow_x": null,
            "overflow_y": null,
            "padding": null,
            "right": null,
            "top": null,
            "visibility": null,
            "width": null
          }
        },
        "97437859af4942e78a3eb2f25af5822a": {
          "model_module": "@jupyter-widgets/controls",
          "model_module_version": "1.5.0",
          "model_name": "ProgressStyleModel",
          "state": {
            "_model_module": "@jupyter-widgets/controls",
            "_model_module_version": "1.5.0",
            "_model_name": "ProgressStyleModel",
            "_view_count": null,
            "_view_module": "@jupyter-widgets/base",
            "_view_module_version": "1.2.0",
            "_view_name": "StyleView",
            "bar_color": null,
            "description_width": ""
          }
        },
        "99b00fa24c604920b96e2bedeaa1c7b6": {
          "model_module": "@jupyter-widgets/base",
          "model_module_version": "1.2.0",
          "model_name": "LayoutModel",
          "state": {
            "_model_module": "@jupyter-widgets/base",
            "_model_module_version": "1.2.0",
            "_model_name": "LayoutModel",
            "_view_count": null,
            "_view_module": "@jupyter-widgets/base",
            "_view_module_version": "1.2.0",
            "_view_name": "LayoutView",
            "align_content": null,
            "align_items": null,
            "align_self": null,
            "border": null,
            "bottom": null,
            "display": null,
            "flex": null,
            "flex_flow": null,
            "grid_area": null,
            "grid_auto_columns": null,
            "grid_auto_flow": null,
            "grid_auto_rows": null,
            "grid_column": null,
            "grid_gap": null,
            "grid_row": null,
            "grid_template_areas": null,
            "grid_template_columns": null,
            "grid_template_rows": null,
            "height": null,
            "justify_content": null,
            "justify_items": null,
            "left": null,
            "margin": null,
            "max_height": null,
            "max_width": null,
            "min_height": null,
            "min_width": null,
            "object_fit": null,
            "object_position": null,
            "order": null,
            "overflow": null,
            "overflow_x": null,
            "overflow_y": null,
            "padding": null,
            "right": null,
            "top": null,
            "visibility": null,
            "width": null
          }
        },
        "9ae78ffd912345ac91373bc195b02099": {
          "model_module": "@jupyter-widgets/controls",
          "model_module_version": "1.5.0",
          "model_name": "FloatProgressModel",
          "state": {
            "_dom_classes": [],
            "_model_module": "@jupyter-widgets/controls",
            "_model_module_version": "1.5.0",
            "_model_name": "FloatProgressModel",
            "_view_count": null,
            "_view_module": "@jupyter-widgets/controls",
            "_view_module_version": "1.5.0",
            "_view_name": "ProgressView",
            "bar_style": "success",
            "description": "",
            "description_tooltip": null,
            "layout": "IPY_MODEL_18acf27a436c4f0a92ff6d05698b3525",
            "max": 570,
            "min": 0,
            "orientation": "horizontal",
            "style": "IPY_MODEL_33775ff2a7c047d881bd0d89b34336cf",
            "value": 570
          }
        },
        "9c0143a682a1402594f57f47bf7ea5af": {
          "model_module": "@jupyter-widgets/controls",
          "model_module_version": "1.5.0",
          "model_name": "HBoxModel",
          "state": {
            "_dom_classes": [],
            "_model_module": "@jupyter-widgets/controls",
            "_model_module_version": "1.5.0",
            "_model_name": "HBoxModel",
            "_view_count": null,
            "_view_module": "@jupyter-widgets/controls",
            "_view_module_version": "1.5.0",
            "_view_name": "HBoxView",
            "box_style": "",
            "children": [
              "IPY_MODEL_537116fd269b43f7b86a1c0818f8254b",
              "IPY_MODEL_be7ba15533fd400484372c613930cb49",
              "IPY_MODEL_2cc06bddcc484905a705df3146812320"
            ],
            "layout": "IPY_MODEL_331a7eae59cf4a1e8333e0fd41501881"
          }
        },
        "b008ea843c354580aab2ded93998a5be": {
          "model_module": "@jupyter-widgets/controls",
          "model_module_version": "1.5.0",
          "model_name": "HTMLModel",
          "state": {
            "_dom_classes": [],
            "_model_module": "@jupyter-widgets/controls",
            "_model_module_version": "1.5.0",
            "_model_name": "HTMLModel",
            "_view_count": null,
            "_view_module": "@jupyter-widgets/controls",
            "_view_module_version": "1.5.0",
            "_view_name": "HTMLView",
            "description": "",
            "description_tooltip": null,
            "layout": "IPY_MODEL_4ac3b3ee68d94bb08052d197d17a2335",
            "placeholder": "​",
            "style": "IPY_MODEL_d77dd0adb2fe471ca7d47c1c0ac20575",
            "value": " 28.0/28.0 [00:00&lt;00:00, 1.01kB/s]"
          }
        },
        "b62d37cf2d784ea1826bca83a49f7e74": {
          "model_module": "@jupyter-widgets/controls",
          "model_module_version": "1.5.0",
          "model_name": "DescriptionStyleModel",
          "state": {
            "_model_module": "@jupyter-widgets/controls",
            "_model_module_version": "1.5.0",
            "_model_name": "DescriptionStyleModel",
            "_view_count": null,
            "_view_module": "@jupyter-widgets/base",
            "_view_module_version": "1.2.0",
            "_view_name": "StyleView",
            "description_width": ""
          }
        },
        "bbf38c40248d4c7db0cce4308dc8158a": {
          "model_module": "@jupyter-widgets/controls",
          "model_module_version": "1.5.0",
          "model_name": "DescriptionStyleModel",
          "state": {
            "_model_module": "@jupyter-widgets/controls",
            "_model_module_version": "1.5.0",
            "_model_name": "DescriptionStyleModel",
            "_view_count": null,
            "_view_module": "@jupyter-widgets/base",
            "_view_module_version": "1.2.0",
            "_view_name": "StyleView",
            "description_width": ""
          }
        },
        "be7ba15533fd400484372c613930cb49": {
          "model_module": "@jupyter-widgets/controls",
          "model_module_version": "1.5.0",
          "model_name": "FloatProgressModel",
          "state": {
            "_dom_classes": [],
            "_model_module": "@jupyter-widgets/controls",
            "_model_module_version": "1.5.0",
            "_model_name": "FloatProgressModel",
            "_view_count": null,
            "_view_module": "@jupyter-widgets/controls",
            "_view_module_version": "1.5.0",
            "_view_name": "ProgressView",
            "bar_style": "success",
            "description": "",
            "description_tooltip": null,
            "layout": "IPY_MODEL_49dfc9e788d5487f8983492d8754028c",
            "max": 466062,
            "min": 0,
            "orientation": "horizontal",
            "style": "IPY_MODEL_97437859af4942e78a3eb2f25af5822a",
            "value": 466062
          }
        },
        "c522bdca0616408dba505dce5166f8bd": {
          "model_module": "@jupyter-widgets/controls",
          "model_module_version": "1.5.0",
          "model_name": "HBoxModel",
          "state": {
            "_dom_classes": [],
            "_model_module": "@jupyter-widgets/controls",
            "_model_module_version": "1.5.0",
            "_model_name": "HBoxModel",
            "_view_count": null,
            "_view_module": "@jupyter-widgets/controls",
            "_view_module_version": "1.5.0",
            "_view_name": "HBoxView",
            "box_style": "",
            "children": [
              "IPY_MODEL_0b3d6cebc67b4b9e8474d0c746dfa6a7",
              "IPY_MODEL_9ae78ffd912345ac91373bc195b02099",
              "IPY_MODEL_4511359951dc44698d4ea51ac8bdbc00"
            ],
            "layout": "IPY_MODEL_7f1eda3174d1481cb29f5f181746b5c9"
          }
        },
        "cab95b7b60284cbea00bc2a01d093224": {
          "model_module": "@jupyter-widgets/base",
          "model_module_version": "1.2.0",
          "model_name": "LayoutModel",
          "state": {
            "_model_module": "@jupyter-widgets/base",
            "_model_module_version": "1.2.0",
            "_model_name": "LayoutModel",
            "_view_count": null,
            "_view_module": "@jupyter-widgets/base",
            "_view_module_version": "1.2.0",
            "_view_name": "LayoutView",
            "align_content": null,
            "align_items": null,
            "align_self": null,
            "border": null,
            "bottom": null,
            "display": null,
            "flex": null,
            "flex_flow": null,
            "grid_area": null,
            "grid_auto_columns": null,
            "grid_auto_flow": null,
            "grid_auto_rows": null,
            "grid_column": null,
            "grid_gap": null,
            "grid_row": null,
            "grid_template_areas": null,
            "grid_template_columns": null,
            "grid_template_rows": null,
            "height": null,
            "justify_content": null,
            "justify_items": null,
            "left": null,
            "margin": null,
            "max_height": null,
            "max_width": null,
            "min_height": null,
            "min_width": null,
            "object_fit": null,
            "object_position": null,
            "order": null,
            "overflow": null,
            "overflow_x": null,
            "overflow_y": null,
            "padding": null,
            "right": null,
            "top": null,
            "visibility": null,
            "width": null
          }
        },
        "cc7607bdcbe14154880116f93199efe6": {
          "model_module": "@jupyter-widgets/base",
          "model_module_version": "1.2.0",
          "model_name": "LayoutModel",
          "state": {
            "_model_module": "@jupyter-widgets/base",
            "_model_module_version": "1.2.0",
            "_model_name": "LayoutModel",
            "_view_count": null,
            "_view_module": "@jupyter-widgets/base",
            "_view_module_version": "1.2.0",
            "_view_name": "LayoutView",
            "align_content": null,
            "align_items": null,
            "align_self": null,
            "border": null,
            "bottom": null,
            "display": null,
            "flex": null,
            "flex_flow": null,
            "grid_area": null,
            "grid_auto_columns": null,
            "grid_auto_flow": null,
            "grid_auto_rows": null,
            "grid_column": null,
            "grid_gap": null,
            "grid_row": null,
            "grid_template_areas": null,
            "grid_template_columns": null,
            "grid_template_rows": null,
            "height": null,
            "justify_content": null,
            "justify_items": null,
            "left": null,
            "margin": null,
            "max_height": null,
            "max_width": null,
            "min_height": null,
            "min_width": null,
            "object_fit": null,
            "object_position": null,
            "order": null,
            "overflow": null,
            "overflow_x": null,
            "overflow_y": null,
            "padding": null,
            "right": null,
            "top": null,
            "visibility": null,
            "width": null
          }
        },
        "cfdf01ed72434dd8a4880f66d1d707d3": {
          "model_module": "@jupyter-widgets/controls",
          "model_module_version": "1.5.0",
          "model_name": "FloatProgressModel",
          "state": {
            "_dom_classes": [],
            "_model_module": "@jupyter-widgets/controls",
            "_model_module_version": "1.5.0",
            "_model_name": "FloatProgressModel",
            "_view_count": null,
            "_view_module": "@jupyter-widgets/controls",
            "_view_module_version": "1.5.0",
            "_view_name": "ProgressView",
            "bar_style": "success",
            "description": "",
            "description_tooltip": null,
            "layout": "IPY_MODEL_208c853fb82b49e88faa126b2b0bdc14",
            "max": 28,
            "min": 0,
            "orientation": "horizontal",
            "style": "IPY_MODEL_0c7cd163a24c4f73a18b2b8340c47551",
            "value": 28
          }
        },
        "d20ffa153e904983aca4be5964c8d68b": {
          "model_module": "@jupyter-widgets/base",
          "model_module_version": "1.2.0",
          "model_name": "LayoutModel",
          "state": {
            "_model_module": "@jupyter-widgets/base",
            "_model_module_version": "1.2.0",
            "_model_name": "LayoutModel",
            "_view_count": null,
            "_view_module": "@jupyter-widgets/base",
            "_view_module_version": "1.2.0",
            "_view_name": "LayoutView",
            "align_content": null,
            "align_items": null,
            "align_self": null,
            "border": null,
            "bottom": null,
            "display": null,
            "flex": null,
            "flex_flow": null,
            "grid_area": null,
            "grid_auto_columns": null,
            "grid_auto_flow": null,
            "grid_auto_rows": null,
            "grid_column": null,
            "grid_gap": null,
            "grid_row": null,
            "grid_template_areas": null,
            "grid_template_columns": null,
            "grid_template_rows": null,
            "height": null,
            "justify_content": null,
            "justify_items": null,
            "left": null,
            "margin": null,
            "max_height": null,
            "max_width": null,
            "min_height": null,
            "min_width": null,
            "object_fit": null,
            "object_position": null,
            "order": null,
            "overflow": null,
            "overflow_x": null,
            "overflow_y": null,
            "padding": null,
            "right": null,
            "top": null,
            "visibility": null,
            "width": null
          }
        },
        "d769110e31db4b8e9636d43f49888db0": {
          "model_module": "@jupyter-widgets/controls",
          "model_module_version": "1.5.0",
          "model_name": "DescriptionStyleModel",
          "state": {
            "_model_module": "@jupyter-widgets/controls",
            "_model_module_version": "1.5.0",
            "_model_name": "DescriptionStyleModel",
            "_view_count": null,
            "_view_module": "@jupyter-widgets/base",
            "_view_module_version": "1.2.0",
            "_view_name": "StyleView",
            "description_width": ""
          }
        },
        "d77dd0adb2fe471ca7d47c1c0ac20575": {
          "model_module": "@jupyter-widgets/controls",
          "model_module_version": "1.5.0",
          "model_name": "DescriptionStyleModel",
          "state": {
            "_model_module": "@jupyter-widgets/controls",
            "_model_module_version": "1.5.0",
            "_model_name": "DescriptionStyleModel",
            "_view_count": null,
            "_view_module": "@jupyter-widgets/base",
            "_view_module_version": "1.2.0",
            "_view_name": "StyleView",
            "description_width": ""
          }
        },
        "da296c0a55764f1a99692ccd63691a4f": {
          "model_module": "@jupyter-widgets/base",
          "model_module_version": "1.2.0",
          "model_name": "LayoutModel",
          "state": {
            "_model_module": "@jupyter-widgets/base",
            "_model_module_version": "1.2.0",
            "_model_name": "LayoutModel",
            "_view_count": null,
            "_view_module": "@jupyter-widgets/base",
            "_view_module_version": "1.2.0",
            "_view_name": "LayoutView",
            "align_content": null,
            "align_items": null,
            "align_self": null,
            "border": null,
            "bottom": null,
            "display": null,
            "flex": null,
            "flex_flow": null,
            "grid_area": null,
            "grid_auto_columns": null,
            "grid_auto_flow": null,
            "grid_auto_rows": null,
            "grid_column": null,
            "grid_gap": null,
            "grid_row": null,
            "grid_template_areas": null,
            "grid_template_columns": null,
            "grid_template_rows": null,
            "height": null,
            "justify_content": null,
            "justify_items": null,
            "left": null,
            "margin": null,
            "max_height": null,
            "max_width": null,
            "min_height": null,
            "min_width": null,
            "object_fit": null,
            "object_position": null,
            "order": null,
            "overflow": null,
            "overflow_x": null,
            "overflow_y": null,
            "padding": null,
            "right": null,
            "top": null,
            "visibility": null,
            "width": null
          }
        },
        "dc06e9e778af49dcb5bfd325a1e5f873": {
          "model_module": "@jupyter-widgets/base",
          "model_module_version": "1.2.0",
          "model_name": "LayoutModel",
          "state": {
            "_model_module": "@jupyter-widgets/base",
            "_model_module_version": "1.2.0",
            "_model_name": "LayoutModel",
            "_view_count": null,
            "_view_module": "@jupyter-widgets/base",
            "_view_module_version": "1.2.0",
            "_view_name": "LayoutView",
            "align_content": null,
            "align_items": null,
            "align_self": null,
            "border": null,
            "bottom": null,
            "display": null,
            "flex": null,
            "flex_flow": null,
            "grid_area": null,
            "grid_auto_columns": null,
            "grid_auto_flow": null,
            "grid_auto_rows": null,
            "grid_column": null,
            "grid_gap": null,
            "grid_row": null,
            "grid_template_areas": null,
            "grid_template_columns": null,
            "grid_template_rows": null,
            "height": null,
            "justify_content": null,
            "justify_items": null,
            "left": null,
            "margin": null,
            "max_height": null,
            "max_width": null,
            "min_height": null,
            "min_width": null,
            "object_fit": null,
            "object_position": null,
            "order": null,
            "overflow": null,
            "overflow_x": null,
            "overflow_y": null,
            "padding": null,
            "right": null,
            "top": null,
            "visibility": null,
            "width": null
          }
        },
        "e33e0c3d5a7148cc81b91b95e205dd49": {
          "model_module": "@jupyter-widgets/controls",
          "model_module_version": "1.5.0",
          "model_name": "HBoxModel",
          "state": {
            "_dom_classes": [],
            "_model_module": "@jupyter-widgets/controls",
            "_model_module_version": "1.5.0",
            "_model_name": "HBoxModel",
            "_view_count": null,
            "_view_module": "@jupyter-widgets/controls",
            "_view_module_version": "1.5.0",
            "_view_name": "HBoxView",
            "box_style": "",
            "children": [
              "IPY_MODEL_8289ceab280f472a9f151fcc80f0b7f6",
              "IPY_MODEL_3a88d17d92ed4547be50cad1aa73bb3d",
              "IPY_MODEL_5eda5cc0ef224d9e96a9f62f109ae70a"
            ],
            "layout": "IPY_MODEL_970603a5e28042cd8019a34ab1c24e36"
          }
        },
        "ef2d0e27c8cf442886030e881b2f1a7a": {
          "model_module": "@jupyter-widgets/controls",
          "model_module_version": "1.5.0",
          "model_name": "ProgressStyleModel",
          "state": {
            "_model_module": "@jupyter-widgets/controls",
            "_model_module_version": "1.5.0",
            "_model_name": "ProgressStyleModel",
            "_view_count": null,
            "_view_module": "@jupyter-widgets/base",
            "_view_module_version": "1.2.0",
            "_view_name": "StyleView",
            "bar_color": null,
            "description_width": ""
          }
        }
      }
    }
  },
  "nbformat": 4,
  "nbformat_minor": 0
}
